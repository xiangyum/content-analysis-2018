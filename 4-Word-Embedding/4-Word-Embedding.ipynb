{
 "cells": [
  {
   "cell_type": "markdown",
   "metadata": {},
   "source": [
    "# Week 4 - Word Embeddings\n",
    "\n",
    "This week, we build on last week's topic modeling techniques by taking a text corpus we have developed, specifying an underlying number of dimensions, and training a model with a neural network auto-encoder (one of Google's word2vec  algorithms) that best describes corpus words in their local linguistic contexts, and exploring their locations in the resulting space to learn about the discursive culture that produced them. Documents here are represented as densely indexed locations in dimensions, rather than sparse mixtures of topics (as in LDA topic modeling), so that distances between those documents (and words) are consistently superior, though they require the full vector of dimension loadings (rather than just a few selected topic loadings) to describe. We will explore these spaces to understand complex, semantic relationships between words, index documents with descriptive words, identify the likelihood that a given document would have been produced by a given vector model, and explore how semantic categories can help us understand the cultures that produced them.\n",
    "\n",
    "For this notebook we will be using the following packages"
   ]
  },
  {
   "cell_type": "code",
   "execution_count": 1,
   "metadata": {
    "collapsed": true
   },
   "outputs": [],
   "source": [
    "#Special module written for this class\n",
    "#This provides access to data and to helper functions from previous weeks\n",
    "#Make sure you update it before starting this notebook\n",
    "import lucem_illud #pip install -U git+git://github.com/Computational-Content-Analysis-2018/lucem_illud.git\n",
    "\n",
    "#All these packages need to be installed from pip\n",
    "import gensim#For word2vec, etc\n",
    "import requests #For downloading our datasets\n",
    "import nltk #For stop words and stemmers\n",
    "import numpy as np #For arrays\n",
    "import pandas #Gives us DataFrames\n",
    "import matplotlib.pyplot as plt #For graphics\n",
    "import seaborn #Makes the graphics look nicer\n",
    "import sklearn.metrics.pairwise #For cosine similarity\n",
    "import sklearn.manifold #For T-SNE\n",
    "import sklearn.decomposition #For PCA\n",
    "\n",
    "#gensim uses a couple of deprecated features\n",
    "#we can't do anything about them so lets ignore them \n",
    "import warnings\n",
    "warnings.filterwarnings(\"ignore\", category=DeprecationWarning) \n",
    "\n",
    "#This 'magic' command makes the plots work better\n",
    "#in the notebook, don't use it outside of a notebook.\n",
    "#Also you can ignore the warning\n",
    "%matplotlib inline\n",
    "\n",
    "import os #For looking through files\n",
    "import os.path #For managing file paths"
   ]
  },
  {
   "cell_type": "markdown",
   "metadata": {},
   "source": [
    "# Getting our corpora\n",
    "\n",
    "Instead of downloading our corpora, we have download them in advance; a subset of the [senate press releases](https://github.com/lintool/GrimmerSenatePressReleases) are in `grimmerPressReleases`. We will load them into a DataFrame, using a function from a couple weeks ago `loadTextDirectory`:"
   ]
  },
  {
   "cell_type": "code",
   "execution_count": 9,
   "metadata": {},
   "outputs": [
    {
     "data": {
      "text/html": [
       "<div>\n",
       "<style scoped>\n",
       "    .dataframe tbody tr th:only-of-type {\n",
       "        vertical-align: middle;\n",
       "    }\n",
       "\n",
       "    .dataframe tbody tr th {\n",
       "        vertical-align: top;\n",
       "    }\n",
       "\n",
       "    .dataframe thead th {\n",
       "        text-align: right;\n",
       "    }\n",
       "</style>\n",
       "<table border=\"1\" class=\"dataframe\">\n",
       "  <thead>\n",
       "    <tr style=\"text-align: right;\">\n",
       "      <th></th>\n",
       "      <th>text</th>\n",
       "    </tr>\n",
       "  </thead>\n",
       "  <tbody>\n",
       "    <tr>\n",
       "      <th>02Feb2006Kennedy7.txt</th>\n",
       "      <td>FOR IMMEDIATE RELEASE  Lithonia  Geor...</td>\n",
       "    </tr>\n",
       "    <tr>\n",
       "      <th>07Jun2006Kennedy1.txt</th>\n",
       "      <td>FOR IMMEDIATE RELEASE  FOR IMMEDIATE ...</td>\n",
       "    </tr>\n",
       "    <tr>\n",
       "      <th>28Sep2006Kennedy7.txt</th>\n",
       "      <td>FOR IMMEDIATE RELEASE   Washington  D...</td>\n",
       "    </tr>\n",
       "    <tr>\n",
       "      <th>18Apr2007Kennedy14.txt</th>\n",
       "      <td>FOR IMMEDIATE RELEASE  I am pleased t...</td>\n",
       "    </tr>\n",
       "    <tr>\n",
       "      <th>29Jul2005Kennedy13.txt</th>\n",
       "      <td>FOR IMMEDIATE RELEASE     Washington ...</td>\n",
       "    </tr>\n",
       "  </tbody>\n",
       "</table>\n",
       "</div>"
      ],
      "text/plain": [
       "                                                                     text\n",
       "02Feb2006Kennedy7.txt            FOR IMMEDIATE RELEASE  Lithonia  Geor...\n",
       "07Jun2006Kennedy1.txt            FOR IMMEDIATE RELEASE  FOR IMMEDIATE ...\n",
       "28Sep2006Kennedy7.txt            FOR IMMEDIATE RELEASE   Washington  D...\n",
       "18Apr2007Kennedy14.txt           FOR IMMEDIATE RELEASE  I am pleased t...\n",
       "29Jul2005Kennedy13.txt           FOR IMMEDIATE RELEASE     Washington ..."
      ]
     },
     "execution_count": 9,
     "metadata": {},
     "output_type": "execute_result"
    }
   ],
   "source": [
    "kennedyDF = lucem_illud.loadTextDirectory('../data/grimmerPressReleases/Kennedy/')\n",
    "kennedyDF[:5]"
   ]
  },
  {
   "cell_type": "markdown",
   "metadata": {},
   "source": [
    "This gets us one Senator's data, but with no metadata, we can add a category column with a simple command:"
   ]
  },
  {
   "cell_type": "code",
   "execution_count": 10,
   "metadata": {},
   "outputs": [
    {
     "data": {
      "text/html": [
       "<div>\n",
       "<style scoped>\n",
       "    .dataframe tbody tr th:only-of-type {\n",
       "        vertical-align: middle;\n",
       "    }\n",
       "\n",
       "    .dataframe tbody tr th {\n",
       "        vertical-align: top;\n",
       "    }\n",
       "\n",
       "    .dataframe thead th {\n",
       "        text-align: right;\n",
       "    }\n",
       "</style>\n",
       "<table border=\"1\" class=\"dataframe\">\n",
       "  <thead>\n",
       "    <tr style=\"text-align: right;\">\n",
       "      <th></th>\n",
       "      <th>text</th>\n",
       "      <th>category</th>\n",
       "    </tr>\n",
       "  </thead>\n",
       "  <tbody>\n",
       "    <tr>\n",
       "      <th>02Feb2006Kennedy7.txt</th>\n",
       "      <td>FOR IMMEDIATE RELEASE  Lithonia  Geor...</td>\n",
       "      <td>Kennedy</td>\n",
       "    </tr>\n",
       "    <tr>\n",
       "      <th>07Jun2006Kennedy1.txt</th>\n",
       "      <td>FOR IMMEDIATE RELEASE  FOR IMMEDIATE ...</td>\n",
       "      <td>Kennedy</td>\n",
       "    </tr>\n",
       "    <tr>\n",
       "      <th>28Sep2006Kennedy7.txt</th>\n",
       "      <td>FOR IMMEDIATE RELEASE   Washington  D...</td>\n",
       "      <td>Kennedy</td>\n",
       "    </tr>\n",
       "    <tr>\n",
       "      <th>18Apr2007Kennedy14.txt</th>\n",
       "      <td>FOR IMMEDIATE RELEASE  I am pleased t...</td>\n",
       "      <td>Kennedy</td>\n",
       "    </tr>\n",
       "    <tr>\n",
       "      <th>29Jul2005Kennedy13.txt</th>\n",
       "      <td>FOR IMMEDIATE RELEASE     Washington ...</td>\n",
       "      <td>Kennedy</td>\n",
       "    </tr>\n",
       "  </tbody>\n",
       "</table>\n",
       "</div>"
      ],
      "text/plain": [
       "                                                                     text  \\\n",
       "02Feb2006Kennedy7.txt            FOR IMMEDIATE RELEASE  Lithonia  Geor...   \n",
       "07Jun2006Kennedy1.txt            FOR IMMEDIATE RELEASE  FOR IMMEDIATE ...   \n",
       "28Sep2006Kennedy7.txt            FOR IMMEDIATE RELEASE   Washington  D...   \n",
       "18Apr2007Kennedy14.txt           FOR IMMEDIATE RELEASE  I am pleased t...   \n",
       "29Jul2005Kennedy13.txt           FOR IMMEDIATE RELEASE     Washington ...   \n",
       "\n",
       "                       category  \n",
       "02Feb2006Kennedy7.txt   Kennedy  \n",
       "07Jun2006Kennedy1.txt   Kennedy  \n",
       "28Sep2006Kennedy7.txt   Kennedy  \n",
       "18Apr2007Kennedy14.txt  Kennedy  \n",
       "29Jul2005Kennedy13.txt  Kennedy  "
      ]
     },
     "execution_count": 10,
     "metadata": {},
     "output_type": "execute_result"
    }
   ],
   "source": [
    "kennedyDF['category'] = 'Kennedy'\n",
    "kennedyDF[:5]"
   ]
  },
  {
   "cell_type": "markdown",
   "metadata": {},
   "source": [
    "We also will be wanting to load all the senators so we will need to loop over all the directories"
   ]
  },
  {
   "cell_type": "code",
   "execution_count": 11,
   "metadata": {},
   "outputs": [
    {
     "data": {
      "text/html": [
       "<div>\n",
       "<style scoped>\n",
       "    .dataframe tbody tr th:only-of-type {\n",
       "        vertical-align: middle;\n",
       "    }\n",
       "\n",
       "    .dataframe tbody tr th {\n",
       "        vertical-align: top;\n",
       "    }\n",
       "\n",
       "    .dataframe thead th {\n",
       "        text-align: right;\n",
       "    }\n",
       "</style>\n",
       "<table border=\"1\" class=\"dataframe\">\n",
       "  <thead>\n",
       "    <tr style=\"text-align: right;\">\n",
       "      <th></th>\n",
       "      <th>text</th>\n",
       "      <th>category</th>\n",
       "    </tr>\n",
       "  </thead>\n",
       "  <tbody>\n",
       "    <tr>\n",
       "      <th>22May2008Klobuchar45.txt</th>\n",
       "      <td>...</td>\n",
       "      <td>Klobuchar</td>\n",
       "    </tr>\n",
       "    <tr>\n",
       "      <th>02Nov2007Klobuchar188.txt</th>\n",
       "      <td>...</td>\n",
       "      <td>Klobuchar</td>\n",
       "    </tr>\n",
       "    <tr>\n",
       "      <th>28May2008Klobuchar41.txt</th>\n",
       "      <td>...</td>\n",
       "      <td>Klobuchar</td>\n",
       "    </tr>\n",
       "    <tr>\n",
       "      <th>06Jun2007Klobuchar303.txt</th>\n",
       "      <td>...</td>\n",
       "      <td>Klobuchar</td>\n",
       "    </tr>\n",
       "    <tr>\n",
       "      <th>18Sep2007Klobuchar222.txt</th>\n",
       "      <td>...</td>\n",
       "      <td>Klobuchar</td>\n",
       "    </tr>\n",
       "  </tbody>\n",
       "</table>\n",
       "</div>"
      ],
      "text/plain": [
       "                                                                        text  \\\n",
       "22May2008Klobuchar45.txt                                                 ...   \n",
       "02Nov2007Klobuchar188.txt                                                ...   \n",
       "28May2008Klobuchar41.txt                                                 ...   \n",
       "06Jun2007Klobuchar303.txt                                                ...   \n",
       "18Sep2007Klobuchar222.txt                                                ...   \n",
       "\n",
       "                            category  \n",
       "22May2008Klobuchar45.txt   Klobuchar  \n",
       "02Nov2007Klobuchar188.txt  Klobuchar  \n",
       "28May2008Klobuchar41.txt   Klobuchar  \n",
       "06Jun2007Klobuchar303.txt  Klobuchar  \n",
       "18Sep2007Klobuchar222.txt  Klobuchar  "
      ]
     },
     "execution_count": 11,
     "metadata": {},
     "output_type": "execute_result"
    }
   ],
   "source": [
    "dataDir = '../data/grimmerPressReleases'\n",
    "\n",
    "senReleasesDF = pandas.DataFrame()\n",
    "\n",
    "for senatorDir in (file for file in os.scandir(dataDir) if not file.name.startswith('.') and file.is_dir()):\n",
    "    senDF = lucem_illud.loadTextDirectory(senatorDir.path)\n",
    "    senDF['category'] = senatorDir.name\n",
    "    senReleasesDF = senReleasesDF.append(senDF, ignore_index = False)\n",
    "\n",
    "senReleasesDF[:5]"
   ]
  },
  {
   "cell_type": "markdown",
   "metadata": {},
   "source": [
    "We also want to remove stop words and stem. Tokenizing requires two steps. Word2Vec needs to retain the sentence structure so as to capture a \"continuous bag of words (CBOW)\" and all of the skip-grams within a word window. The algorithm tries to preserve the distances induced by one of these two local structures. This is very different from clustering and LDA topic modeling which extract unordered words alone. As such, tokenizing is slightly more involved, but we can still use `lucem_illud`."
   ]
  },
  {
   "cell_type": "code",
   "execution_count": 12,
   "metadata": {},
   "outputs": [
    {
     "data": {
      "text/html": [
       "<div>\n",
       "<style scoped>\n",
       "    .dataframe tbody tr th:only-of-type {\n",
       "        vertical-align: middle;\n",
       "    }\n",
       "\n",
       "    .dataframe tbody tr th {\n",
       "        vertical-align: top;\n",
       "    }\n",
       "\n",
       "    .dataframe thead th {\n",
       "        text-align: right;\n",
       "    }\n",
       "</style>\n",
       "<table border=\"1\" class=\"dataframe\">\n",
       "  <thead>\n",
       "    <tr style=\"text-align: right;\">\n",
       "      <th></th>\n",
       "      <th>text</th>\n",
       "      <th>category</th>\n",
       "      <th>tokenized_sents</th>\n",
       "      <th>normalized_sents</th>\n",
       "    </tr>\n",
       "  </thead>\n",
       "  <tbody>\n",
       "    <tr>\n",
       "      <th>22May2008Klobuchar45.txt</th>\n",
       "      <td>...</td>\n",
       "      <td>Klobuchar</td>\n",
       "      <td>[[Klobuchar, Features, Fergus, Falls, Bakery, ...</td>\n",
       "      <td>[[klobuchar, features, fergus, falls, bakery, ...</td>\n",
       "    </tr>\n",
       "    <tr>\n",
       "      <th>02Nov2007Klobuchar188.txt</th>\n",
       "      <td>...</td>\n",
       "      <td>Klobuchar</td>\n",
       "      <td>[[Senator, Klobuchar, Seeks, to, Prohibit, Ind...</td>\n",
       "      <td>[[senator, klobuchar, seeks, prohibit, industr...</td>\n",
       "    </tr>\n",
       "    <tr>\n",
       "      <th>28May2008Klobuchar41.txt</th>\n",
       "      <td>...</td>\n",
       "      <td>Klobuchar</td>\n",
       "      <td>[[Klobuchar, Meets, with, Local, Burmese, Comm...</td>\n",
       "      <td>[[klobuchar, meets, local, burmese, community,...</td>\n",
       "    </tr>\n",
       "    <tr>\n",
       "      <th>06Jun2007Klobuchar303.txt</th>\n",
       "      <td>...</td>\n",
       "      <td>Klobuchar</td>\n",
       "      <td>[[Klobuchar, Introduces, Renewable, Energy, In...</td>\n",
       "      <td>[[klobuchar, introduces, renewable, energy, in...</td>\n",
       "    </tr>\n",
       "    <tr>\n",
       "      <th>18Sep2007Klobuchar222.txt</th>\n",
       "      <td>...</td>\n",
       "      <td>Klobuchar</td>\n",
       "      <td>[[Senator, Klobuchar, Applauds, Senate, Passag...</td>\n",
       "      <td>[[senator, klobuchar, applauds, senate, passag...</td>\n",
       "    </tr>\n",
       "  </tbody>\n",
       "</table>\n",
       "</div>"
      ],
      "text/plain": [
       "                                                                        text  \\\n",
       "22May2008Klobuchar45.txt                                                 ...   \n",
       "02Nov2007Klobuchar188.txt                                                ...   \n",
       "28May2008Klobuchar41.txt                                                 ...   \n",
       "06Jun2007Klobuchar303.txt                                                ...   \n",
       "18Sep2007Klobuchar222.txt                                                ...   \n",
       "\n",
       "                            category  \\\n",
       "22May2008Klobuchar45.txt   Klobuchar   \n",
       "02Nov2007Klobuchar188.txt  Klobuchar   \n",
       "28May2008Klobuchar41.txt   Klobuchar   \n",
       "06Jun2007Klobuchar303.txt  Klobuchar   \n",
       "18Sep2007Klobuchar222.txt  Klobuchar   \n",
       "\n",
       "                                                             tokenized_sents  \\\n",
       "22May2008Klobuchar45.txt   [[Klobuchar, Features, Fergus, Falls, Bakery, ...   \n",
       "02Nov2007Klobuchar188.txt  [[Senator, Klobuchar, Seeks, to, Prohibit, Ind...   \n",
       "28May2008Klobuchar41.txt   [[Klobuchar, Meets, with, Local, Burmese, Comm...   \n",
       "06Jun2007Klobuchar303.txt  [[Klobuchar, Introduces, Renewable, Energy, In...   \n",
       "18Sep2007Klobuchar222.txt  [[Senator, Klobuchar, Applauds, Senate, Passag...   \n",
       "\n",
       "                                                            normalized_sents  \n",
       "22May2008Klobuchar45.txt   [[klobuchar, features, fergus, falls, bakery, ...  \n",
       "02Nov2007Klobuchar188.txt  [[senator, klobuchar, seeks, prohibit, industr...  \n",
       "28May2008Klobuchar41.txt   [[klobuchar, meets, local, burmese, community,...  \n",
       "06Jun2007Klobuchar303.txt  [[klobuchar, introduces, renewable, energy, in...  \n",
       "18Sep2007Klobuchar222.txt  [[senator, klobuchar, applauds, senate, passag...  "
      ]
     },
     "execution_count": 12,
     "metadata": {},
     "output_type": "execute_result"
    }
   ],
   "source": [
    "#Apply our functions, notice each row is a list of lists now\n",
    "senReleasesDF['tokenized_sents'] = senReleasesDF['text'].apply(lambda x: \n",
    "                                                               [nltk.word_tokenize(s) for s in nltk.sent_tokenize(x)])\n",
    "senReleasesDF['normalized_sents'] = senReleasesDF['tokenized_sents'].apply(lambda x: \n",
    "                                                                           [lucem_illud.normalizeTokens(s, \n",
    "                                                                                           stopwordLst = lucem_illud.stop_words_basic, \n",
    "                                                                                           stemmer = None) \n",
    "                                                                            for s in x])\n",
    "\n",
    "senReleasesDF[:5]"
   ]
  },
  {
   "cell_type": "code",
   "execution_count": null,
   "metadata": {
    "collapsed": true
   },
   "outputs": [],
   "source": [
    "senReleasesDF['normalized_sents'].iloc[0]"
   ]
  },
  {
   "cell_type": "markdown",
   "metadata": {},
   "source": [
    "# Word2Vec\n",
    "\n",
    "We will be using the gensim implementation of [Word2Vec](https://radimrehurek.com/gensim/models/word2vec.html#gensim.models.word2vec.Word2Vec).\n",
    "\n",
    "To load our data, we give all the sentences to the trainer. We just need to add the words as a list of sentences:"
   ]
  },
  {
   "cell_type": "code",
   "execution_count": null,
   "metadata": {
    "collapsed": true
   },
   "outputs": [],
   "source": [
    "senReleasesW2V = gensim.models.word2vec.Word2Vec(senReleasesDF['normalized_sents'].sum())"
   ]
  },
  {
   "cell_type": "markdown",
   "metadata": {},
   "source": [
    "Inside the word2vec object, the words each have a vector. To access the vector directly, use the square braces (`__getitem__`) method:"
   ]
  },
  {
   "cell_type": "code",
   "execution_count": null,
   "metadata": {
    "collapsed": true
   },
   "outputs": [],
   "source": [
    "print(\"A {} dimesional vector:\".format(senReleasesW2V['president'].shape[0]))\n",
    "senReleasesW2V['president']"
   ]
  },
  {
   "cell_type": "markdown",
   "metadata": {},
   "source": [
    "If you want the full matrix, `syn0` stores all the vectors:"
   ]
  },
  {
   "cell_type": "code",
   "execution_count": null,
   "metadata": {
    "collapsed": true
   },
   "outputs": [],
   "source": [
    "senReleasesW2V.wv.syn0"
   ]
  },
  {
   "cell_type": "markdown",
   "metadata": {},
   "source": [
    "Then, `index2word` lets you translate from the matrix to words"
   ]
  },
  {
   "cell_type": "code",
   "execution_count": null,
   "metadata": {
    "collapsed": true
   },
   "outputs": [],
   "source": [
    "senReleasesW2V.wv.index2word[10]"
   ]
  },
  {
   "cell_type": "markdown",
   "metadata": {},
   "source": [
    "Now we can look at a few things that come from the word vectors. The first is to find similar vectors (cosine similarity):"
   ]
  },
  {
   "cell_type": "code",
   "execution_count": null,
   "metadata": {
    "collapsed": true
   },
   "outputs": [],
   "source": [
    "senReleasesW2V.most_similar('president')"
   ]
  },
  {
   "cell_type": "code",
   "execution_count": null,
   "metadata": {
    "collapsed": true
   },
   "outputs": [],
   "source": [
    "senReleasesW2V.most_similar('war')"
   ]
  },
  {
   "cell_type": "markdown",
   "metadata": {},
   "source": [
    "Or we can get this directly (calculated slightly differently):"
   ]
  },
  {
   "cell_type": "code",
   "execution_count": null,
   "metadata": {
    "collapsed": true
   },
   "outputs": [],
   "source": [
    "def cos_difference(embedding,word1,word2):\n",
    "    return sklearn.metrics.pairwise.cosine_similarity(embedding[word1].reshape(1,-1),embedding[word2].reshape(1,-1))"
   ]
  },
  {
   "cell_type": "code",
   "execution_count": null,
   "metadata": {
    "collapsed": true
   },
   "outputs": [],
   "source": [
    "cos_difference(senReleasesW2V, 'war', 'unwinnable')"
   ]
  },
  {
   "cell_type": "markdown",
   "metadata": {},
   "source": [
    "We can also find which word least matches the others within a word set (cosine similarity):"
   ]
  },
  {
   "cell_type": "code",
   "execution_count": null,
   "metadata": {
    "collapsed": true
   },
   "outputs": [],
   "source": [
    "senReleasesW2V.doesnt_match(['administration', 'administrations', 'presidents', 'president', 'washington'])"
   ]
  },
  {
   "cell_type": "markdown",
   "metadata": {},
   "source": [
    "Find which word best matches the result of a semantic *equation* (here, we seek the words whose vectors best fit the missing entry from the equation: **X + Y - Z = _**."
   ]
  },
  {
   "cell_type": "code",
   "execution_count": null,
   "metadata": {
    "collapsed": true
   },
   "outputs": [],
   "source": [
    "senReleasesW2V.most_similar(positive=['clinton', 'republican'], negative = ['democrat'])"
   ]
  },
  {
   "cell_type": "markdown",
   "metadata": {},
   "source": [
    "Here we see that **Clinton + Republican - Democrat = Bush**. In other words, in this dataset and period, **Clinton** was to **Democrat** as **Bush** was to **Republican**. Whoah!"
   ]
  },
  {
   "cell_type": "markdown",
   "metadata": {},
   "source": [
    " But how do we argue that these are stable distances or associations?"
   ]
  },
  {
   "cell_type": "markdown",
   "metadata": {},
   "source": [
    "## Establishing Credible or Confidence Intervals"
   ]
  },
  {
   "cell_type": "markdown",
   "metadata": {},
   "source": [
    "### Boostrapping approach"
   ]
  },
  {
   "cell_type": "markdown",
   "metadata": {},
   "source": [
    "We propose well-established bootstrapping and subsampling methods to nonparametrically demonstrate the stability and significance of word associations within our embedding model. These allow us to establish conservative confidence intervals to both (a) distances between words in a model and (b) projections of words onto an induced dimension (e.g., man-woman). If we assume that the texts (e.g., newspapers, books) underlying our word embedding model are observations drawn from an independent and identically distributed (i.i.d.) population of cultural observations, then bootstrapping allows us to estimate the variance of word distances and projections by measuring those properties through sampling the empirical distribution of texts with replacement (Efron and Tibshirani 1994; Efron 2003). Operationally, if we wanted to bootstrap a 90% confidence interval of a word-word distance or word-dimension projection, we would sample a corpus the same size as the original corpus, but with replacement, 20 times, estimate word embedding models on each sample. Then we take the 2nd order (2nd smallest) statistic $s_{(2)}$--either distance or projection--as our confidence interval’s lower bound, and 19th order statistic $s_{(19)}$ as its upper bound. The distance between $s_{(2)}$ and $s_{(19)}$ across 20 bootstrap samples span the 5th to the 95th percentiles of the statistic’s variance, bounding the 90th confidence interval. A 95% confidence interval would span $s_{(2)}$ and $s_{(39)}$ in word embedding distances or projections estimated on 40 bootstrap samples of a corpus, tracing the 2.5th to 97.5th percentiles. "
   ]
  },
  {
   "cell_type": "code",
   "execution_count": null,
   "metadata": {
    "collapsed": true
   },
   "outputs": [],
   "source": [
    "estimatesB=[]\n",
    "for x in range(20):\n",
    "    senReleasesW2VB = gensim.models.word2vec.Word2Vec(senReleasesDF['normalized_sents'].sample(frac=1.0, replace=True).sum())\n",
    "    try:\n",
    "        estimatesB.append(cos_difference(senReleasesW2VB, 'war', 'unwinnable')[0,0])\n",
    "    except KeyError:\n",
    "        #Missing one of the words from the vocab\n",
    "        pass\n",
    "                                                      \n",
    "estimatesB.sort()         \n",
    "estimatesB"
   ]
  },
  {
   "cell_type": "code",
   "execution_count": null,
   "metadata": {
    "collapsed": true
   },
   "outputs": [],
   "source": [
    "print(\"The 90% confidence interval for the cosine distance between war and unwinnable is:\\n\",estimatesB[1], estimatesB[-2])"
   ]
  },
  {
   "cell_type": "markdown",
   "metadata": {},
   "source": [
    "### Subsampling approach"
   ]
  },
  {
   "cell_type": "markdown",
   "metadata": {},
   "source": [
    "If the corpus is large, then we may take a subsampling approach, which randomly partitions the corpus into non-overlapping samples, then estimates the word-embedding models on these subsets and calculates confidence intervals as a function of the empirical distribution of distance or projection statistics and number of texts in the subsample (Politis and Romano 1997). Subsampling requires the same i.i.d. assumption as the bootrap (Politis and Romano 1992; Politis and Romano 1994). For 90% confidence intervals, we randomly partition the corpus into 20 subcorpora, then calculate $B^k=\\sqrt{\\tau_k}\\left(s^k-\\bar{s}\\right)$ for each $k$th sample, where $k$ is the number of texts and $s^k$ is the embedding distance or projection for the $k$th sample, and $\\bar{s}$ is the average statistic for all samples. The 90% confidence interval spans the 5th to 95th percentile variances, inscribed by $\\bar{s}-\\frac{B_{(19)}^k}{\\sqrt{\\tau}}$ and $\\bar{s}-\\frac{B_{(2)}^k}{\\sqrt{\\tau}}$, where $\\tau$ the number of texts in the total corpus and $s$ is the average statistic across all subsamples. As with bootrapping, a 95% confidence interval would require 40 subsamples; a 99% confidence would require 200 (.5th to 99.5th percentiles)."
   ]
  },
  {
   "cell_type": "code",
   "execution_count": null,
   "metadata": {
    "collapsed": true
   },
   "outputs": [],
   "source": [
    "senReleasesDF[sample_indices == i]"
   ]
  },
  {
   "cell_type": "code",
   "execution_count": null,
   "metadata": {
    "collapsed": true
   },
   "outputs": [],
   "source": [
    "n_samples = 10\n",
    "sample_indices = np.random.randint(0,n_samples,(len(senReleasesDF),))\n",
    "\n",
    "s_k =np.array([])\n",
    "tau_k=np.array([])\n",
    "\n",
    "for i in range(n_samples):\n",
    "    sample_w2v = gensim.models.word2vec.Word2Vec(senReleasesDF[sample_indices == i]['normalized_sents'].sum())\n",
    "    try:\n",
    "        #Need to use words present in most samples\n",
    "        s_k = np.append(s_k, cos_difference(sample_w2v, 'war', 'responsibility')[0,0])\n",
    "    except KeyError:\n",
    "        pass\n",
    "    else:\n",
    "        tau_k = np.append(tau_k, len(senReleasesDF[sample_indices == i]))\n",
    "\n",
    "print(s_k)\n",
    "print(tau_k)\n",
    "\n",
    "tau = tau_k.sum()\n",
    "s = s_k.mean()\n",
    "B_k = np.sqrt(tau_k) * s_k-s_k.mean()"
   ]
  },
  {
   "cell_type": "code",
   "execution_count": null,
   "metadata": {
    "collapsed": true
   },
   "outputs": [],
   "source": [
    "print(\"The 90% confidence interval for the cosine distance between war and responsibility is:\\n\",s-B_k[-2]/np.sqrt(tau), s-B_k[1]/np.sqrt(tau))"
   ]
  },
  {
   "cell_type": "markdown",
   "metadata": {},
   "source": [
    "We can also save the vectors for later use:"
   ]
  },
  {
   "cell_type": "code",
   "execution_count": null,
   "metadata": {
    "collapsed": true
   },
   "outputs": [],
   "source": [
    "senReleasesW2V.save(\"senpressreleasesWORD2Vec.mm\")\n",
    "#Load with senReleasesW2V = gensim.models.word2vec.Word2Vec.load('senpressreleasesWORD2Vec.mm')"
   ]
  },
  {
   "cell_type": "markdown",
   "metadata": {},
   "source": [
    "## Visualize"
   ]
  },
  {
   "cell_type": "markdown",
   "metadata": {},
   "source": [
    "We can also use dimension reduction to visulize the vectors. We will start by selecting a subset we want to plot. Let's look at the top words from the set:"
   ]
  },
  {
   "cell_type": "code",
   "execution_count": null,
   "metadata": {
    "collapsed": true
   },
   "outputs": [],
   "source": [
    "numWords = 150\n",
    "targetWords = senReleasesW2V.wv.index2word[:numWords]"
   ]
  },
  {
   "cell_type": "markdown",
   "metadata": {},
   "source": [
    "We can then extract their vectors and create our own smaller matrix that preserved the distances from the original:"
   ]
  },
  {
   "cell_type": "code",
   "execution_count": null,
   "metadata": {
    "collapsed": true
   },
   "outputs": [],
   "source": [
    "wordsSubMatrix = []\n",
    "for word in targetWords:\n",
    "    wordsSubMatrix.append(senReleasesW2V[word])\n",
    "wordsSubMatrix = np.array(wordsSubMatrix)\n",
    "wordsSubMatrix"
   ]
  },
  {
   "cell_type": "markdown",
   "metadata": {},
   "source": [
    "Then we can use PCA to reduce the dimesions (e.g., to 50), and [T-SNE](https://en.wikipedia.org/wiki/T-distributed_stochastic_neighbor_embedding) to project them down to the two we will visualize. We note that this is nondeterministic process, and so you can repeat and achieve alternative projectsions/visualizations of the words:"
   ]
  },
  {
   "cell_type": "code",
   "execution_count": null,
   "metadata": {
    "collapsed": true
   },
   "outputs": [],
   "source": [
    "pcaWords = sklearn.decomposition.PCA(n_components = 50).fit(wordsSubMatrix)\n",
    "reducedPCA_data = pcaWords.transform(wordsSubMatrix)\n",
    "#T-SNE is theoretically better, but you should experiment\n",
    "tsneWords = sklearn.manifold.TSNE(n_components = 2, early_exaggeration = 25).fit_transform(reducedPCA_data)"
   ]
  },
  {
   "cell_type": "markdown",
   "metadata": {},
   "source": [
    "We now can plot the points"
   ]
  },
  {
   "cell_type": "code",
   "execution_count": null,
   "metadata": {
    "collapsed": true
   },
   "outputs": [],
   "source": [
    "fig = plt.figure(figsize = (15,10))\n",
    "ax = fig.add_subplot(111)\n",
    "ax.set_frame_on(False)\n",
    "plt.scatter(tsneWords[:, 0], tsneWords[:, 1], alpha = 0)#Making the points invisible \n",
    "for i, word in enumerate(targetWords):\n",
    "    ax.annotate(word, \n",
    "                (tsneWords[:, 0][i],tsneWords[:, 1][i]), \n",
    "                size =  20 * (numWords - i) / numWords, \n",
    "                alpha = .8 * (numWords - i) / numWords + .2)\n",
    "plt.xticks(())\n",
    "plt.yticks(())\n",
    "plt.show()"
   ]
  },
  {
   "cell_type": "markdown",
   "metadata": {},
   "source": [
    "My visualization above puts ``iraq`` next to ``time`` and ``bill`` near ``help``. <img src='../data/examplewordcloud.svg'>"
   ]
  },
  {
   "cell_type": "markdown",
   "metadata": {},
   "source": [
    "What if a new senator come along with whose names starts with K? Could we analyse their releases too without rerunning the entire embedding? Lets try with Cardin in `../data/grimmerPressReleases_extra/Cardin`. First we need to load and proccess the releases:"
   ]
  },
  {
   "cell_type": "code",
   "execution_count": null,
   "metadata": {
    "collapsed": true
   },
   "outputs": [],
   "source": [
    "cardinDF = lucem_illud.loadTextDirectory('../data/grimmerPressReleases_extra/Cardin')\n",
    "cardinDF['category'] = 'Cardin'\n",
    "\n",
    "cardinDF['tokenized_sents'] = cardinDF['text'].apply(lambda x: \n",
    "                                                               [nltk.word_tokenize(s) for s in nltk.sent_tokenize(x)])\n",
    "cardinDF['normalized_sents'] = cardinDF['tokenized_sents'].apply(lambda x: \n",
    "                                                                           [lucem_illud.normalizeTokens(s, \n",
    "                                                                                           stopwordLst = lucem_illud.stop_words_basic, \n",
    "                                                                                           stemmer = None) \n",
    "                                                                            for s in x])\n",
    "\n",
    "cardinDF[:10]"
   ]
  },
  {
   "cell_type": "markdown",
   "metadata": {},
   "source": [
    "We can now merge Cardin's releases with the rest. This can update all the weights in *w2v* model, so be careful."
   ]
  },
  {
   "cell_type": "code",
   "execution_count": null,
   "metadata": {
    "collapsed": true
   },
   "outputs": [],
   "source": [
    "#This is using a newer API so we have to tell it a little bit more for it to work right\n",
    "senReleasesW2V.build_vocab(cardinDF['normalized_sents'].sum(), update=True)\n",
    "senReleasesW2V.train(cardinDF['normalized_sents'].sum(), \n",
    "                     total_examples=senReleasesW2V.corpus_count, \n",
    "                     epochs=senReleasesW2V.iter)\n",
    "senReleasesW2V.save(\"senpressreleasesWORD2Vec_new.mm\")"
   ]
  },
  {
   "cell_type": "markdown",
   "metadata": {},
   "source": [
    "As the model is updated by this, we need to load our old copy to do a comparison."
   ]
  },
  {
   "cell_type": "code",
   "execution_count": null,
   "metadata": {
    "collapsed": true
   },
   "outputs": [],
   "source": [
    "senReleasesW2V_old = gensim.models.word2vec.Word2Vec.load('senpressreleasesWORD2Vec.mm')"
   ]
  },
  {
   "cell_type": "code",
   "execution_count": null,
   "metadata": {
    "collapsed": true
   },
   "outputs": [],
   "source": [
    "print(\"A {} dimesional vector:\".format(senReleasesW2V['president'].shape[0]))\n",
    "senReleasesW2V['president'][:10]"
   ]
  },
  {
   "cell_type": "code",
   "execution_count": null,
   "metadata": {
    "collapsed": true
   },
   "outputs": [],
   "source": [
    "print(\"A {} dimesional vector:\".format(senReleasesW2V_old['president'].shape[0]))\n",
    "senReleasesW2V_old['president'][:10]"
   ]
  },
  {
   "cell_type": "code",
   "execution_count": null,
   "metadata": {
    "collapsed": true
   },
   "outputs": [],
   "source": [
    "(senReleasesW2V_old['president'] - senReleasesW2V['president'])[:10]"
   ]
  },
  {
   "cell_type": "markdown",
   "metadata": {},
   "source": [
    "As you can see the vector for 'president' has changed a little bit and the word cloud should also be a bit different too"
   ]
  },
  {
   "cell_type": "code",
   "execution_count": null,
   "metadata": {
    "collapsed": true
   },
   "outputs": [],
   "source": [
    "pcaWords = sklearn.decomposition.PCA(n_components = 50).fit(wordsSubMatrix)\n",
    "reducedPCA_data = pcaWords.transform(wordsSubMatrix)\n",
    "#T-SNE is theoretically better, but you should experiment\n",
    "tsneWords = sklearn.manifold.TSNE(n_components = 2, early_exaggeration = 25).fit_transform(reducedPCA_data)"
   ]
  },
  {
   "cell_type": "code",
   "execution_count": null,
   "metadata": {
    "collapsed": true
   },
   "outputs": [],
   "source": [
    "fig = plt.figure(figsize = (15,10))\n",
    "ax = fig.add_subplot(111)\n",
    "ax.set_frame_on(False)\n",
    "plt.scatter(tsneWords[:, 0], tsneWords[:, 1], alpha = 0)#Making the points invisible \n",
    "for i, word in enumerate(targetWords):\n",
    "    ax.annotate(word, \n",
    "                (tsneWords[:, 0][i],tsneWords[:, 1][i]), \n",
    "                size =  20 * (numWords - i) / numWords, \n",
    "                alpha = .8 * (numWords - i) / numWords + .2)\n",
    "plt.xticks(())\n",
    "plt.yticks(())\n",
    "plt.show()"
   ]
  },
  {
   "cell_type": "raw",
   "metadata": {},
   "source": [
    "Another thing to consider in training is how we know that our parameters for the model are correct. We can do this by looking at the training loss of the model. Let's tart by training a new model, but this time we will expose most of the options and train it one epoch at a time. Look [here](https://radimrehurek.com/gensim/models/word2vec.html#gensim.models.word2vec.Word2Vec) for more detail: "
   ]
  },
  {
   "cell_type": "code",
   "execution_count": null,
   "metadata": {
    "collapsed": true
   },
   "outputs": [],
   "source": [
    "senReleasesW2V_loss = gensim.models.word2vec.Word2Vec(size = 100, #dimensions\n",
    "                                                      alpha=0.025,\n",
    "                                                      window=5,\n",
    "                                                      min_count=5,\n",
    "                                                      hs=0,  #hierarchical softmax toggle\n",
    "                                                      compute_loss = True,\n",
    "                                                     )\n",
    "senReleasesW2V_loss.build_vocab(senReleasesDF['normalized_sents'].sum())\n",
    "senReleasesW2V_loss.train(senReleasesDF['normalized_sents'].sum(), \n",
    "                     total_examples=senReleasesW2V.corpus_count, \n",
    "                     epochs=1, #This the running_training_loss is a total so we have to do 1 epoch at a time\n",
    "                    )\n",
    "#Using a list so we can capture every epoch\n",
    "losses = [senReleasesW2V_loss.running_training_loss]\n",
    "losses[0]"
   ]
  },
  {
   "cell_type": "markdown",
   "metadata": {},
   "source": [
    "Now we have the training loss and can optimize training to minimize it."
   ]
  },
  {
   "cell_type": "code",
   "execution_count": null,
   "metadata": {
    "collapsed": true
   },
   "outputs": [],
   "source": [
    "for i in range(19):\n",
    "    senReleasesW2V_loss.train(senReleasesDF['normalized_sents'].sum(), \n",
    "                     total_examples=senReleasesW2V.corpus_count, \n",
    "                     epochs=1,\n",
    "                             )\n",
    "    losses.append(senReleasesW2V_loss.running_training_loss)\n",
    "    print(\"Done epoch {}\".format(i + 2), end = '\\r')"
   ]
  },
  {
   "cell_type": "markdown",
   "metadata": {},
   "source": [
    "Lets plot the loss vs epoch"
   ]
  },
  {
   "cell_type": "code",
   "execution_count": null,
   "metadata": {
    "collapsed": true
   },
   "outputs": [],
   "source": [
    "lossesDF = pandas.DataFrame({'loss' : losses, 'epoch' : range(len(losses))})\n",
    "lossesDF.plot(y = 'loss', x = 'epoch', logy=False, figsize=(15, 7))\n",
    "plt.show()"
   ]
  },
  {
   "cell_type": "markdown",
   "metadata": {},
   "source": [
    "You should see that the loss is almost monotonic, but that the rate decreases as epoch increases. Since we are testing on our training data monotonicity is a common result and we must try to avoid over fitting. A simple way to do this is to stop training when there is significant change in the rate of decrease. In this run, that looks to be approximately 8 or 9. If we were to do another analysis, we might use an `iter=9` instead of the default 5."
   ]
  },
  {
   "cell_type": "markdown",
   "metadata": {},
   "source": [
    "Even more culturally interesting is how many dimensions are required to achieve an optimal embedding. The use of words in complex ways and contradictory contexts will require more dimensions to represent them with integrity. For example, if one word, $w_a$, is \"nearby\" $w_b$, but $w_b$ is not near the other words beside $w_a$, then a new dimension will be required for the two words to be uniquely together. "
   ]
  },
  {
   "cell_type": "code",
   "execution_count": null,
   "metadata": {
    "collapsed": true
   },
   "outputs": [],
   "source": [
    "losses_dims=[]\n",
    "\n",
    "for d in [50,100,150,200,250,300,350,400,450,500, 550, 600, 650, 700, 750]:\n",
    "    senReleasesW2V_loss_dims = gensim.models.word2vec.Word2Vec(size = d, #dimensions\n",
    "                                                      alpha=0.025,\n",
    "                                                      window=5,\n",
    "                                                      min_count=5,\n",
    "                                                      hs=0,  #hierarchical softmax toggle\n",
    "                                                      compute_loss = True,\n",
    "                                                     )\n",
    "    senReleasesW2V_loss_dims.build_vocab(senReleasesDF['normalized_sents'].sum())\n",
    "    senReleasesW2V_loss_dims.train(senReleasesDF['normalized_sents'].sum(), \n",
    "                     total_examples=senReleasesW2V.corpus_count, \n",
    "                     epochs=7, #This the running_training_loss is a total so we have to do 1 epoch at a time\n",
    "                    )\n",
    "    senReleasesW2V_loss_dims.train(senReleasesDF['normalized_sents'].sum(), \n",
    "                     total_examples=senReleasesW2V.corpus_count, \n",
    "                     epochs=1, #This the running_training_loss is a total so we have to do 1 epoch at a time\n",
    "                    )\n",
    "    \n",
    "    losses_dims.append(senReleasesW2V_loss_dims.running_training_loss/(10+d*10))"
   ]
  },
  {
   "cell_type": "code",
   "execution_count": null,
   "metadata": {
    "collapsed": true
   },
   "outputs": [],
   "source": [
    "losses_dimsDF = pandas.DataFrame({'loss' : losses_dims, 'dimensions' : [50,100,150,200,250,300,350,400,450,500,550,600,650,700,750]})\n",
    "losses_dimsDF.plot(y = 'loss', x = 'dimensions', logy=False, figsize=(15, 7))\n",
    "plt.show()"
   ]
  },
  {
   "cell_type": "markdown",
   "metadata": {},
   "source": [
    "This is a work in progress for Gensim, but its clear that most of the word distance variation is captured by 300 dimensions."
   ]
  },
  {
   "cell_type": "markdown",
   "metadata": {},
   "source": [
    "# Chinese examples"
   ]
  },
  {
   "cell_type": "code",
   "execution_count": null,
   "metadata": {
    "collapsed": true
   },
   "outputs": [],
   "source": [
    "model=gensim.models.Word2Vec.load('../data/1992embeddings_hs_new3.sg')"
   ]
  },
  {
   "cell_type": "markdown",
   "metadata": {},
   "source": [
    "## analogy\n",
    "\n",
    "King+man-Queen? A few examples based on a corpus of Chinese news. \n",
    "\n",
    "First, location analogy: **province -> capital**"
   ]
  },
  {
   "cell_type": "code",
   "execution_count": null,
   "metadata": {
    "collapsed": true
   },
   "outputs": [],
   "source": [
    "mm = model.most_similar(positive=[u'长沙',u'陕西'], negative=[u'湖南']) # Changsha + Shaanxi - Hunan\n",
    "for m in mm:\n",
    "    print(m[0],m[1])\n",
    "    print(\"Xi'an\")\n",
    "    break"
   ]
  },
  {
   "cell_type": "code",
   "execution_count": null,
   "metadata": {
    "collapsed": true
   },
   "outputs": [],
   "source": [
    "mm = model.most_similar(positive=[u'广州',u'湖北'], negative=[u'广东']) # Guangzhou + Hubei - Guangdong\n",
    "for m in mm:\n",
    "    print(m[0],m[1])\n",
    "    print(\"Wuhan\")\n",
    "    break"
   ]
  },
  {
   "cell_type": "markdown",
   "metadata": {},
   "source": [
    "Second, location analogy: **country -> capital**"
   ]
  },
  {
   "cell_type": "code",
   "execution_count": null,
   "metadata": {
    "collapsed": true
   },
   "outputs": [],
   "source": [
    "mm = model.most_similar(positive=[u'东京',u'美国'], negative=[u'日本']) # Tokyo + US - Japan\n",
    "for m in mm:\n",
    "    print(m[0],m[1])\n",
    "    print(\"(Washington DC)\")\n",
    "    break"
   ]
  },
  {
   "cell_type": "markdown",
   "metadata": {},
   "source": [
    "## similar words"
   ]
  },
  {
   "cell_type": "code",
   "execution_count": null,
   "metadata": {
    "collapsed": true
   },
   "outputs": [],
   "source": [
    "word = u'社会主义'  #socialism\n",
    "ss = model.similar_by_word(word,topn=10)\n",
    "print(\"the most similar words to \" + word + \" is: \")\n",
    "for s in ss:\n",
    "    print(s[0])\n",
    "print(\"\")"
   ]
  },
  {
   "cell_type": "code",
   "execution_count": null,
   "metadata": {
    "collapsed": true
   },
   "outputs": [],
   "source": [
    "word = u'玉米'  # corn\n",
    "ss = model.similar_by_word(word,topn=10)\n",
    "print(\"the most similar words to \" + word + \" is: \")\n",
    "for s in ss:\n",
    "    print(s[0])\n",
    "print(\"\")"
   ]
  },
  {
   "cell_type": "markdown",
   "metadata": {},
   "source": [
    "## <span style=\"color:red\">*Exercise 1*</span>\n",
    "\n",
    "<span style=\"color:red\">Construct cells immediately below this that build a word2vec model with your corpus. Interrogate word relationships in the resulting space, including estimating 90% confidence intervals for specific word cosine distances of interest. Plot a subset of your words. What do these word relationships reveal about the *social* and *cultural game* underlying your corpus? What was surprising--what violated your prior understanding of the corpus? What was expected--what confirmed your knowledge about this domain?"
   ]
  },
  {
   "cell_type": "code",
   "execution_count": 2,
   "metadata": {
    "collapsed": true
   },
   "outputs": [],
   "source": [
    "import re"
   ]
  },
  {
   "cell_type": "code",
   "execution_count": 3,
   "metadata": {
    "collapsed": true
   },
   "outputs": [],
   "source": [
    "# read csv into a DF\n",
    "djDF = pandas.read_csv('dj_bible_all')\n",
    "\n",
    "# create an index for the dataframe\n",
    "djDF['index'] = range(len(djDF))\n",
    "\n",
    "# use regex to strip out html elements from corpora\n",
    "for x in range(0, len(djDF)):\n",
    "   djDF.iloc[x,1] = re.sub('<[^<]+?>', '', djDF.iloc[x,1])"
   ]
  },
  {
   "cell_type": "code",
   "execution_count": 4,
   "metadata": {
    "collapsed": true
   },
   "outputs": [],
   "source": [
    "# tokenize the data\n",
    "djDF['tokenized_sents'] = djDF['post'].apply(lambda x: \n",
    "                                                               [nltk.word_tokenize(s) for s in nltk.sent_tokenize(x)])\n",
    "djDF['normalized_sents'] = djDF['tokenized_sents'].apply(lambda x: \n",
    "                                                                           [lucem_illud.normalizeTokens(s, \n",
    "                                                                                           stopwordLst = lucem_illud.stop_words_basic, \n",
    "                                                                                           stemmer = None) \n",
    "                                                                            for s in x])"
   ]
  },
  {
   "cell_type": "code",
   "execution_count": 5,
   "metadata": {
    "collapsed": true
   },
   "outputs": [],
   "source": [
    "djW2V = gensim.models.word2vec.Word2Vec(djDF['normalized_sents'].sum())"
   ]
  },
  {
   "cell_type": "code",
   "execution_count": 18,
   "metadata": {},
   "outputs": [
    {
     "data": {
      "text/plain": [
       "[('jerk', 0.8977867364883423),\n",
       " ('wimps', 0.8899115324020386),\n",
       " ('pervert', 0.8806747794151306),\n",
       " ('seperates', 0.8722873330116272),\n",
       " ('man', 0.8711382150650024),\n",
       " ('syndrome', 0.8702548742294312),\n",
       " ('moderation', 0.8701784610748291),\n",
       " ('sink', 0.8681151866912842),\n",
       " ('hotel', 0.865714430809021),\n",
       " ('smells', 0.8644935488700867)]"
      ]
     },
     "execution_count": 18,
     "metadata": {},
     "output_type": "execute_result"
    }
   ],
   "source": [
    "# Interrogate some word relationships\n",
    "# find similar vectors by consine similarity\n",
    "djW2V.most_similar('guy')"
   ]
  },
  {
   "cell_type": "code",
   "execution_count": 19,
   "metadata": {},
   "outputs": [
    {
     "data": {
      "text/plain": [
       "[('approach', 0.9973943829536438),\n",
       " ('meet', 0.9970903992652893),\n",
       " ('chick', 0.9957576990127563),\n",
       " ('trying', 0.9942822456359863),\n",
       " ('laid', 0.993569552898407),\n",
       " ('attention', 0.9932692050933838),\n",
       " ('times', 0.9930588603019714),\n",
       " ('fun', 0.9930522441864014),\n",
       " ('spend', 0.9925084114074707),\n",
       " ('talking', 0.9918403625488281)]"
      ]
     },
     "execution_count": 19,
     "metadata": {},
     "output_type": "execute_result"
    }
   ],
   "source": [
    "djW2V.most_similar('sex')"
   ]
  },
  {
   "cell_type": "code",
   "execution_count": 20,
   "metadata": {},
   "outputs": [
    {
     "data": {
      "text/plain": [
       "[('real', 0.991244375705719),\n",
       " ('respect', 0.9911054968833923),\n",
       " ('attract', 0.9906629920005798),\n",
       " ('fact', 0.990535318851471),\n",
       " ('attractive', 0.9898992776870728),\n",
       " ('confident', 0.9896820187568665),\n",
       " ('fall', 0.9892457723617554),\n",
       " ('understand', 0.9891051650047302),\n",
       " ('kind', 0.9888695478439331),\n",
       " ('realize', 0.9886477589607239)]"
      ]
     },
     "execution_count": 20,
     "metadata": {},
     "output_type": "execute_result"
    }
   ],
   "source": [
    "djW2V.most_similar('love')"
   ]
  },
  {
   "cell_type": "code",
   "execution_count": 21,
   "metadata": {},
   "outputs": [
    {
     "data": {
      "text/plain": [
       "[('sting', 0.9878084659576416),\n",
       " ('cynetix', 0.9873387217521667),\n",
       " ('adventure', 0.9867685437202454),\n",
       " ('stockholder', 0.986359179019928),\n",
       " ('button', 0.984459400177002),\n",
       " ('metal', 0.9842702746391296),\n",
       " ('adonis', 0.9838914275169373),\n",
       " ('rico', 0.9838409423828125),\n",
       " ('neo', 0.9834412336349487),\n",
       " ('performer', 0.9833385944366455)]"
      ]
     },
     "execution_count": 21,
     "metadata": {},
     "output_type": "execute_result"
    }
   ],
   "source": [
    "djW2V.most_similar('man')"
   ]
  },
  {
   "cell_type": "code",
   "execution_count": 22,
   "metadata": {},
   "outputs": [
    {
     "data": {
      "text/plain": [
       "[('wants', 0.9835636019706726),\n",
       " ('less', 0.9830718636512756),\n",
       " ('away', 0.9828516244888306),\n",
       " ('around', 0.9825867414474487),\n",
       " ('control', 0.9825765490531921),\n",
       " ('beautiful', 0.981996476650238),\n",
       " ('walk', 0.9811891913414001),\n",
       " ('care', 0.9810426831245422),\n",
       " ('attention', 0.9810394644737244),\n",
       " ('either', 0.9798558354377747)]"
      ]
     },
     "execution_count": 22,
     "metadata": {},
     "output_type": "execute_result"
    }
   ],
   "source": [
    "djW2V.most_similar('woman')"
   ]
  },
  {
   "cell_type": "code",
   "execution_count": 23,
   "metadata": {},
   "outputs": [
    {
     "data": {
      "text/plain": [
       "[('enough', 0.9979092478752136),\n",
       " ('stop', 0.9974300861358643),\n",
       " ('chicks', 0.9973071217536926),\n",
       " ('sometimes', 0.9970928430557251),\n",
       " ('learn', 0.9965812563896179),\n",
       " ('probably', 0.9965713620185852),\n",
       " ('expect', 0.9965043663978577),\n",
       " ('laugh', 0.9963930249214172),\n",
       " ('see', 0.9960347414016724),\n",
       " ('easier', 0.9959436058998108)]"
      ]
     },
     "execution_count": 23,
     "metadata": {},
     "output_type": "execute_result"
    }
   ],
   "source": [
    "djW2V.most_similar('relationship')"
   ]
  },
  {
   "cell_type": "code",
   "execution_count": 24,
   "metadata": {},
   "outputs": [
    {
     "data": {
      "text/plain": [
       "[('tried', 0.998892068862915),\n",
       " ('didnt', 0.998734712600708),\n",
       " ('serious', 0.9986964464187622),\n",
       " ('wonder', 0.998670220375061),\n",
       " ('possible', 0.9985984563827515),\n",
       " ('easy', 0.9985126852989197),\n",
       " ('figure', 0.9983727335929871),\n",
       " ('probably', 0.9983257055282593),\n",
       " ('along', 0.9982609748840332),\n",
       " ('imagine', 0.9981750249862671)]"
      ]
     },
     "execution_count": 24,
     "metadata": {},
     "output_type": "execute_result"
    }
   ],
   "source": [
    "djW2V.most_similar('girlfriend')"
   ]
  },
  {
   "cell_type": "code",
   "execution_count": 25,
   "metadata": {},
   "outputs": [
    {
     "data": {
      "text/plain": [
       "[('talk', 0.9731433391571045),\n",
       " ('want', 0.971768856048584),\n",
       " ('get', 0.9708028435707092),\n",
       " ('number', 0.9686764478683472),\n",
       " ('date', 0.9676327705383301),\n",
       " ('go', 0.9663957953453064),\n",
       " ('girl', 0.9645773768424988),\n",
       " ('ask', 0.9636945128440857),\n",
       " ('interested', 0.9626287221908569),\n",
       " ('call', 0.9613762497901917)]"
      ]
     },
     "execution_count": 25,
     "metadata": {},
     "output_type": "execute_result"
    }
   ],
   "source": [
    "# explore semantic equations\n",
    "djW2V.most_similar(positive=['sex', 'woman'], negative = ['man'])"
   ]
  },
  {
   "cell_type": "code",
   "execution_count": 26,
   "metadata": {},
   "outputs": [
    {
     "data": {
      "text/plain": [
       "[('get', 0.9846338033676147),\n",
       " ('interested', 0.983426034450531),\n",
       " ('talk', 0.9812682271003723),\n",
       " ('girls', 0.9750082492828369),\n",
       " ('want', 0.9738503098487854),\n",
       " ('go', 0.9719415903091431),\n",
       " ('ask', 0.9658171534538269),\n",
       " ('friends', 0.9652941226959229),\n",
       " ('find', 0.9639054536819458),\n",
       " ('never', 0.9638746976852417)]"
      ]
     },
     "execution_count": 26,
     "metadata": {},
     "output_type": "execute_result"
    }
   ],
   "source": [
    "djW2V.most_similar(positive=['love', 'woman'], negative = ['man'])"
   ]
  },
  {
   "cell_type": "code",
   "execution_count": 27,
   "metadata": {},
   "outputs": [
    {
     "data": {
      "text/plain": [
       "[('talk', 0.9731433391571045),\n",
       " ('want', 0.971768856048584),\n",
       " ('get', 0.9708028435707092),\n",
       " ('number', 0.9686764478683472),\n",
       " ('date', 0.9676327705383301),\n",
       " ('go', 0.9663957953453064),\n",
       " ('girl', 0.9645773768424988),\n",
       " ('ask', 0.9636945128440857),\n",
       " ('interested', 0.9626287221908569),\n",
       " ('call', 0.9613762497901917)]"
      ]
     },
     "execution_count": 27,
     "metadata": {},
     "output_type": "execute_result"
    }
   ],
   "source": [
    "djW2V.most_similar(positive=['woman', 'sex'], negative = ['man'])"
   ]
  },
  {
   "cell_type": "code",
   "execution_count": 28,
   "metadata": {
    "collapsed": true
   },
   "outputs": [],
   "source": [
    "#visualize the word embeddings\n",
    "numWords = 300\n",
    "djtargetWords = djW2V.wv.index2word[:numWords]\n",
    "\n",
    "djwordsSubMatrix = []\n",
    "for word in djtargetWords:\n",
    "    djwordsSubMatrix.append(djW2V[word])\n",
    "djwordsSubMatrix = np.array(djwordsSubMatrix)"
   ]
  },
  {
   "cell_type": "code",
   "execution_count": 29,
   "metadata": {
    "collapsed": true
   },
   "outputs": [],
   "source": [
    "# use pca to reduce data to 50 dimensions\n",
    "djpcaWords = sklearn.decomposition.PCA(n_components = 50).fit(djwordsSubMatrix)\n",
    "djreduced = djpcaWords.transform(djwordsSubMatrix)\n",
    "djtsneWords = sklearn.manifold.TSNE(n_components = 2, early_exaggeration = 25).fit_transform(djreduced)"
   ]
  },
  {
   "cell_type": "code",
   "execution_count": 30,
   "metadata": {},
   "outputs": [
    {
     "data": {
      "image/png": "[encoded data removed]",
      "text/plain": [
       "<matplotlib.figure.Figure at 0x11dcfb048>"
      ]
     },
     "metadata": {},
     "output_type": "display_data"
    }
   ],
   "source": [
    "#plot\n",
    "fig = plt.figure(figsize = (15,10))\n",
    "ax = fig.add_subplot(111)\n",
    "ax.set_frame_on(False)\n",
    "plt.scatter(djtsneWords[:, 0], djtsneWords[:, 1], alpha = 0)#Making the points invisible \n",
    "for i, word in enumerate(djtargetWords):\n",
    "    ax.annotate(word, \n",
    "                (djtsneWords[:, 0][i],djtsneWords[:, 1][i]), \n",
    "                size =  20 * (numWords - i) / numWords, \n",
    "                alpha = .8 * (numWords - i) / numWords + .2)\n",
    "plt.xticks(())\n",
    "plt.yticks(())\n",
    "plt.show()"
   ]
  },
  {
   "cell_type": "code",
   "execution_count": null,
   "metadata": {
    "collapsed": true
   },
   "outputs": [],
   "source": []
  },
  {
   "cell_type": "markdown",
   "metadata": {},
   "source": [
    "# Doc2Vec"
   ]
  },
  {
   "cell_type": "markdown",
   "metadata": {
    "collapsed": true
   },
   "source": [
    "Instead of just looking at just how words embed within in the space, we can look at how the different documents relate to each other within the space. First lets load our data--abstracts of most U.S. physics papers from the 1950s."
   ]
  },
  {
   "cell_type": "code",
   "execution_count": null,
   "metadata": {
    "collapsed": true
   },
   "outputs": [],
   "source": [
    "apsDF = pandas.read_csv('../data/APSabstracts1950s.csv', index_col = 0)\n",
    "apsDF[:10]"
   ]
  },
  {
   "cell_type": "markdown",
   "metadata": {},
   "source": [
    "We will load these as documents into Word2Vec, but first we need to normalize and pick some tags"
   ]
  },
  {
   "cell_type": "code",
   "execution_count": null,
   "metadata": {
    "collapsed": true
   },
   "outputs": [],
   "source": [
    "keywords = ['photomagnetoelectric', 'quantum', 'boltzmann', 'proton', 'positron', 'feynman', 'classical', 'relativity']"
   ]
  },
  {
   "cell_type": "code",
   "execution_count": null,
   "metadata": {
    "collapsed": true
   },
   "outputs": [],
   "source": [
    "apsDF['tokenized_words'] = apsDF['abstract'].apply(lambda x: nltk.word_tokenize(x))\n",
    "apsDF['normalized_words'] = apsDF['tokenized_words'].apply(lambda x: lucem_illud.normalizeTokens(x, stopwordLst = lucem_illud.stop_words_basic, stemmer = None))"
   ]
  },
  {
   "cell_type": "code",
   "execution_count": null,
   "metadata": {
    "collapsed": true
   },
   "outputs": [],
   "source": [
    "taggedDocs = []\n",
    "for index, row in apsDF.iterrows():\n",
    "    #Just doing a simple keyword assignment\n",
    "    docKeywords = [s for s in keywords if s in row['normalized_words']]\n",
    "    docKeywords.append(row['copyrightYear'])\n",
    "    docKeywords.append(row['doi']) #This lets us extract individual documnets since doi's are unique\n",
    "    taggedDocs.append(gensim.models.doc2vec.LabeledSentence(words = row['normalized_words'], tags = docKeywords))\n",
    "apsDF['TaggedAbstracts'] = taggedDocs"
   ]
  },
  {
   "cell_type": "markdown",
   "metadata": {},
   "source": [
    "Now we can train a Doc2Vec model:"
   ]
  },
  {
   "cell_type": "code",
   "execution_count": null,
   "metadata": {
    "collapsed": true
   },
   "outputs": [],
   "source": [
    "apsD2V = gensim.models.doc2vec.Doc2Vec(apsDF['TaggedAbstracts'], size = 100) #Limiting to 100 dimensions"
   ]
  },
  {
   "cell_type": "markdown",
   "metadata": {},
   "source": [
    "We can get vectors for the tags/documents, just as we did with words. Documents are actually the centroids (high dimensional average points) of their words. "
   ]
  },
  {
   "cell_type": "code",
   "execution_count": null,
   "metadata": {
    "collapsed": true,
    "scrolled": true
   },
   "outputs": [],
   "source": [
    "apsD2V.docvecs[1952]"
   ]
  },
  {
   "cell_type": "markdown",
   "metadata": {},
   "source": [
    "The words can still be accessed in the same way:"
   ]
  },
  {
   "cell_type": "code",
   "execution_count": null,
   "metadata": {
    "collapsed": true
   },
   "outputs": [],
   "source": [
    "apsD2V['atom']"
   ]
  },
  {
   "cell_type": "markdown",
   "metadata": {},
   "source": [
    "We can still use the ``most_similar`` command to perform simple semantic equations:"
   ]
  },
  {
   "cell_type": "code",
   "execution_count": null,
   "metadata": {
    "collapsed": true
   },
   "outputs": [],
   "source": [
    "apsD2V.most_similar(positive = ['atom','electrons'], negative = ['electron'], topn = 1)"
   ]
  },
  {
   "cell_type": "markdown",
   "metadata": {},
   "source": [
    "This is interesting. **Electron** is to **electrons** as **atom** is to **atoms**. Another way to understand this, developed below is: **electrons - electron** induces a singular to plural dimension, so when we subtract **electron** from **atom** and add **electrons**, we get **atoms**! "
   ]
  },
  {
   "cell_type": "code",
   "execution_count": null,
   "metadata": {
    "collapsed": true
   },
   "outputs": [],
   "source": [
    "apsD2V.most_similar(positive = ['einstein','law'], negative = ['equation'], topn = 1)"
   ]
  },
  {
   "cell_type": "markdown",
   "metadata": {},
   "source": [
    "In other words **Einstein** minus **equation** plus **law** equals **Meissner**--Walthur Meissner studied mechanical engineering and physics ... and was more likely to produce a \"law\" than a \"equation\", like the Meissner effect, the damping of the magnetic field in superconductors. If we built our word-embedding with a bigger corpus like the entire arXiv, a massive repository of physics preprints, we would see many more such relationships like **gravity - Newton + Einstein = relativity**."
   ]
  },
  {
   "cell_type": "markdown",
   "metadata": {},
   "source": [
    "We can also compute all of these *by hand*--explicitly wth vector algebra: "
   ]
  },
  {
   "cell_type": "code",
   "execution_count": null,
   "metadata": {
    "collapsed": true
   },
   "outputs": [],
   "source": [
    "sklearn.metrics.pairwise.cosine_similarity(apsD2V['electron'].reshape(1,-1), apsD2V['positron'].reshape(1,-1))\n",
    "#We reorient the vectors with .reshape(1, -1) so that they can be computed without a warning in sklearn"
   ]
  },
  {
   "cell_type": "markdown",
   "metadata": {},
   "source": [
    "In the doc2vec model, the documents have vectors just as the words do, so that we can compare documents with each other and also with words (similar to how a search engine locates a webpage with a query). First, we will calculate the distance between a word and documents in the dataset:"
   ]
  },
  {
   "cell_type": "code",
   "execution_count": null,
   "metadata": {
    "collapsed": true
   },
   "outputs": [],
   "source": [
    "apsD2V.docvecs.most_similar([ apsD2V['electron'] ], topn=5 )"
   ]
  },
  {
   "cell_type": "code",
   "execution_count": null,
   "metadata": {
    "collapsed": true
   },
   "outputs": [],
   "source": [
    "djD2V.docvecs['']"
   ]
  },
  {
   "cell_type": "markdown",
   "metadata": {},
   "source": [
    "If we search for the first of these on the web (these are doi codes), we find the following...a pretty good match:\n",
    "<img src='../data/PhysRev.98.875.jpg'>"
   ]
  },
  {
   "cell_type": "markdown",
   "metadata": {},
   "source": [
    "Now let's go the other way around and find words most similar to this document:"
   ]
  },
  {
   "cell_type": "code",
   "execution_count": null,
   "metadata": {
    "collapsed": true
   },
   "outputs": [],
   "source": [
    "apsD2V.most_similar( [ apsD2V.docvecs['10.1103/PhysRev.98.875'] ], topn=5) "
   ]
  },
  {
   "cell_type": "markdown",
   "metadata": {},
   "source": [
    "We can even look for documents most like a query composed of multiple words:"
   ]
  },
  {
   "cell_type": "code",
   "execution_count": null,
   "metadata": {
    "collapsed": true
   },
   "outputs": [],
   "source": [
    "apsD2V.docvecs.most_similar([ apsD2V['electron']+apsD2V['positron']+apsD2V['neutron']], topn=5 )"
   ]
  },
  {
   "cell_type": "markdown",
   "metadata": {},
   "source": [
    "Now let's plot some words and documents against one another with a heatmap:"
   ]
  },
  {
   "cell_type": "code",
   "execution_count": null,
   "metadata": {
    "collapsed": true
   },
   "outputs": [],
   "source": [
    "keywords"
   ]
  },
  {
   "cell_type": "code",
   "execution_count": null,
   "metadata": {
    "collapsed": true
   },
   "outputs": [],
   "source": [
    "heatmapMatrix = []\n",
    "for tagOuter in keywords:\n",
    "    column = []\n",
    "    tagVec = apsD2V.docvecs[tagOuter].reshape(1, -1)\n",
    "    for tagInner in keywords:\n",
    "        column.append(sklearn.metrics.pairwise.cosine_similarity(tagVec, apsD2V.docvecs[tagInner].reshape(1, -1))[0][0])\n",
    "    heatmapMatrix.append(column)\n",
    "heatmapMatrix = np.array(heatmapMatrix)"
   ]
  },
  {
   "cell_type": "code",
   "execution_count": null,
   "metadata": {
    "collapsed": true
   },
   "outputs": [],
   "source": [
    "fig, ax = plt.subplots()\n",
    "hmap = ax.pcolor(heatmapMatrix, cmap='terrain')\n",
    "cbar = plt.colorbar(hmap)\n",
    "\n",
    "cbar.set_label('cosine similarity', rotation=270)\n",
    "a = ax.set_xticks(np.arange(heatmapMatrix.shape[1]) + 0.5, minor=False)\n",
    "a = ax.set_yticks(np.arange(heatmapMatrix.shape[0]) + 0.5, minor=False)\n",
    "\n",
    "a = ax.set_xticklabels(keywords, minor=False, rotation=270)\n",
    "a = ax.set_yticklabels(keywords, minor=False)"
   ]
  },
  {
   "cell_type": "markdown",
   "metadata": {},
   "source": [
    "Now let's look at a heatmap of similarities between the first ten documents in the corpus:"
   ]
  },
  {
   "cell_type": "code",
   "execution_count": null,
   "metadata": {
    "collapsed": true
   },
   "outputs": [],
   "source": [
    "targetDocs = apsDF['doi'][:10]\n",
    "\n",
    "heatmapMatrixD = []\n",
    "\n",
    "for tagOuter in targetDocs:\n",
    "    column = []\n",
    "    tagVec = apsD2V.docvecs[tagOuter].reshape(1, -1)\n",
    "    for tagInner in targetDocs:\n",
    "        column.append(sklearn.metrics.pairwise.cosine_similarity(tagVec, apsD2V.docvecs[tagInner].reshape(1, -1))[0][0])\n",
    "    heatmapMatrixD.append(column)\n",
    "heatmapMatrixD = np.array(heatmapMatrixD)"
   ]
  },
  {
   "cell_type": "code",
   "execution_count": null,
   "metadata": {
    "collapsed": true
   },
   "outputs": [],
   "source": [
    "fig, ax = plt.subplots()\n",
    "hmap = ax.pcolor(heatmapMatrixD, cmap='terrain')\n",
    "cbar = plt.colorbar(hmap)\n",
    "\n",
    "cbar.set_label('cosine similarity', rotation=270)\n",
    "a = ax.set_xticks(np.arange(heatmapMatrixD.shape[1]) + 0.5, minor=False)\n",
    "a = ax.set_yticks(np.arange(heatmapMatrixD.shape[0]) + 0.5, minor=False)\n",
    "\n",
    "a = ax.set_xticklabels(targetDocs, minor=False, rotation=270)\n",
    "a = ax.set_yticklabels(targetDocs, minor=False)"
   ]
  },
  {
   "cell_type": "markdown",
   "metadata": {},
   "source": [
    "Now let's look at a heatmap of similarities between the first ten documents and our keywords:"
   ]
  },
  {
   "cell_type": "code",
   "execution_count": null,
   "metadata": {
    "collapsed": true
   },
   "outputs": [],
   "source": [
    "heatmapMatrixC = []\n",
    "\n",
    "for tagOuter in targetDocs:\n",
    "    column = []\n",
    "    tagVec = apsD2V.docvecs[tagOuter].reshape(1, -1)\n",
    "    for tagInner in keywords:\n",
    "        column.append(sklearn.metrics.pairwise.cosine_similarity(tagVec, apsD2V.docvecs[tagInner].reshape(1, -1))[0][0])\n",
    "    heatmapMatrixC.append(column)\n",
    "heatmapMatrixC = np.array(heatmapMatrixC)"
   ]
  },
  {
   "cell_type": "code",
   "execution_count": null,
   "metadata": {
    "collapsed": true
   },
   "outputs": [],
   "source": [
    "fig, ax = plt.subplots()\n",
    "hmap = ax.pcolor(heatmapMatrixC, cmap='terrain')\n",
    "cbar = plt.colorbar(hmap)\n",
    "\n",
    "cbar.set_label('cosine similarity', rotation=270)\n",
    "a = ax.set_xticks(np.arange(heatmapMatrixC.shape[1]) + 0.5, minor=False)\n",
    "a = ax.set_yticks(np.arange(heatmapMatrixC.shape[0]) + 0.5, minor=False)\n",
    "\n",
    "a = ax.set_xticklabels(keywords, minor=False, rotation=270)\n",
    "a = ax.set_yticklabels(targetDocs, minor=False)"
   ]
  },
  {
   "cell_type": "markdown",
   "metadata": {},
   "source": [
    "We will save the model in case we would like to use it again."
   ]
  },
  {
   "cell_type": "code",
   "execution_count": null,
   "metadata": {
    "collapsed": true
   },
   "outputs": [],
   "source": [
    "apsD2V.save('apsW2V')"
   ]
  },
  {
   "cell_type": "markdown",
   "metadata": {},
   "source": [
    "We can later load it:"
   ]
  },
  {
   "cell_type": "code",
   "execution_count": null,
   "metadata": {
    "collapsed": true
   },
   "outputs": [],
   "source": [
    "#apsD2V = gensim.models.word2vec.Word2Vec.load('data/apsW2V')"
   ]
  },
  {
   "cell_type": "markdown",
   "metadata": {},
   "source": [
    "## <span style=\"color:red\">*Exercise 2*</span>\n",
    "\n",
    "<span style=\"color:red\">Construct cells immediately below this that build a doc2vec model with your corpus. Interrogate document and word relationships in the resulting space. Construct a heatmap that plots the distances between a subset of your documents against each other, and against a set of informative words. Find distances between *every* document in your corpus and a word or query of interest. What do these doc-doc proximities reveal about your corpus? What do these word-doc proximities highlight? Demonstrate and document one reasonable way to select a defensible subset of query-relevant documents for subsequent analysis."
   ]
  },
  {
   "cell_type": "code",
   "execution_count": 31,
   "metadata": {},
   "outputs": [
    {
     "name": "stderr",
     "output_type": "stream",
     "text": [
      "/Users/xiangyu/anaconda3/lib/python3.6/site-packages/ipykernel_launcher.py:13: SettingWithCopyWarning: \n",
      "A value is trying to be set on a copy of a slice from a DataFrame.\n",
      "Try using .loc[row_indexer,col_indexer] = value instead\n",
      "\n",
      "See the caveats in the documentation: http://pandas.pydata.org/pandas-docs/stable/indexing.html#indexing-view-versus-copy\n",
      "  del sys.path[0]\n",
      "/Users/xiangyu/anaconda3/lib/python3.6/site-packages/ipykernel_launcher.py:14: SettingWithCopyWarning: \n",
      "A value is trying to be set on a copy of a slice from a DataFrame.\n",
      "Try using .loc[row_indexer,col_indexer] = value instead\n",
      "\n",
      "See the caveats in the documentation: http://pandas.pydata.org/pandas-docs/stable/indexing.html#indexing-view-versus-copy\n",
      "  \n"
     ]
    }
   ],
   "source": [
    "# read csv into a DF\n",
    "djDF2 = pandas.read_csv('dj_bible_all')\n",
    "\n",
    "# create an index for the dataframe\n",
    "djDF2['index'] = range(len(djDF))\n",
    "\n",
    "# use regex to strip out html elements from corpora\n",
    "for x in range(0, len(djDF2)):\n",
    "   djDF2.iloc[x,1] = re.sub('<[^<]+?>', '', djDF2.iloc[x,1])\n",
    "\n",
    "djmainDF = djDF2.loc[djDF2['post_no']<1,:]\n",
    "\n",
    "djmainDF['tokenized_words'] = djmainDF['post'].apply(lambda x: nltk.word_tokenize(x))\n",
    "djmainDF['normalized_words'] = djmainDF['tokenized_words'].apply(lambda x: lucem_illud.normalizeTokens(x, stopwordLst = lucem_illud.stop_words_basic, stemmer = None))\n",
    "\n",
    "# I don't have a document ID that's native to my text, so I'll just assign the index as the doc id\n",
    "djmainDF = djmainDF.reset_index()\n",
    "djmainDF['docID'] = djmainDF.index"
   ]
  },
  {
   "cell_type": "code",
   "execution_count": 32,
   "metadata": {
    "collapsed": true
   },
   "outputs": [],
   "source": [
    "djkeywords = ['sex', 'love', 'girlfriend', 'confidence', 'money', 'gym', 'power', 'number', 'chat', 'kiss', 'touch', 'porn']"
   ]
  },
  {
   "cell_type": "code",
   "execution_count": 33,
   "metadata": {
    "collapsed": true
   },
   "outputs": [],
   "source": [
    "djtaggedDocs = []\n",
    "for index, row in djmainDF.iterrows():\n",
    "    #Just doing a simple keyword assignment\n",
    "    djdocKeywords = [s for s in djkeywords if s in row['normalized_words']]\n",
    "    djdocKeywords.append(row['docID'])\n",
    "    djdocKeywords.append(row['url'])\n",
    "    djtaggedDocs.append(gensim.models.doc2vec.LabeledSentence(words = row['normalized_words'], tags = djdocKeywords))\n",
    "djmainDF['tagged'] = djtaggedDocs"
   ]
  },
  {
   "cell_type": "code",
   "execution_count": 34,
   "metadata": {
    "collapsed": true
   },
   "outputs": [],
   "source": [
    "#train d2v model\n",
    "djD2V = gensim.models.doc2vec.Doc2Vec(djmainDF['tagged'], size = 100) #Limiting to 100 dimensions"
   ]
  },
  {
   "cell_type": "code",
   "execution_count": 35,
   "metadata": {},
   "outputs": [
    {
     "data": {
      "image/png": "[encoded data removed]",
      "text/plain": [
       "<matplotlib.figure.Figure at 0x124165710>"
      ]
     },
     "metadata": {},
     "output_type": "display_data"
    }
   ],
   "source": [
    "# heat map that compares keywords with one another\n",
    "djheatmapMatrix = []\n",
    "for tagOuter in djkeywords:\n",
    "    column = []\n",
    "    tagVec = djD2V.docvecs[tagOuter].reshape(1, -1)\n",
    "    for tagInner in djkeywords:\n",
    "        column.append(sklearn.metrics.pairwise.cosine_similarity(tagVec, djD2V.docvecs[tagInner].reshape(1, -1))[0][0])\n",
    "    djheatmapMatrix.append(column)\n",
    "djheatmapMatrix = np.array(djheatmapMatrix)\n",
    "\n",
    "fig, ax = plt.subplots()\n",
    "hmap = ax.pcolor(djheatmapMatrix, cmap='terrain')\n",
    "cbar = plt.colorbar(hmap)\n",
    "\n",
    "cbar.set_label('cosine similarity', rotation=270)\n",
    "a = ax.set_xticks(np.arange(djheatmapMatrix.shape[1]) + 0.5, minor=False)\n",
    "a = ax.set_yticks(np.arange(djheatmapMatrix.shape[0]) + 0.5, minor=False)\n",
    "\n",
    "a = ax.set_xticklabels(djkeywords, minor=False, rotation=270)\n",
    "a = ax.set_yticklabels(djkeywords, minor=False)"
   ]
  },
  {
   "cell_type": "markdown",
   "metadata": {},
   "source": [
    "One observation from the heat map is that certain of the keywords I identified have similar variations in cosine similarity. ``touch``, ``kiss``, ``number`` constitue one such group; ``money``, `confidence`, ``power``, `gym` are one, and ``girlfriend`` and ``love`` yet another). "
   ]
  },
  {
   "cell_type": "code",
   "execution_count": null,
   "metadata": {
    "collapsed": true
   },
   "outputs": [],
   "source": []
  },
  {
   "cell_type": "code",
   "execution_count": 36,
   "metadata": {},
   "outputs": [
    {
     "data": {
      "image/png": "[encoded data removed]",
      "text/plain": [
       "<matplotlib.figure.Figure at 0x1242f5da0>"
      ]
     },
     "metadata": {},
     "output_type": "display_data"
    }
   ],
   "source": [
    "# heatmap that compares documents against documents\n",
    "djtargetDocs = djmainDF['url'][:15]\n",
    "\n",
    "djheatmapMatrixD = []\n",
    "\n",
    "for tagOuter in djtargetDocs:\n",
    "    column = []\n",
    "    tagVec = djD2V.docvecs[tagOuter].reshape(1, -1)\n",
    "    for tagInner in djtargetDocs:\n",
    "        column.append(sklearn.metrics.pairwise.cosine_similarity(tagVec, djD2V.docvecs[tagInner].reshape(1, -1))[0][0])\n",
    "    djheatmapMatrixD.append(column)\n",
    "djheatmapMatrixD = np.array(djheatmapMatrixD)\n",
    "\n",
    "fig, ax = plt.subplots()\n",
    "hmap = ax.pcolor(djheatmapMatrixD, cmap='terrain')\n",
    "cbar = plt.colorbar(hmap)\n",
    "\n",
    "cbar.set_label('cosine similarity', rotation=270)\n",
    "a = ax.set_xticks(np.arange(djheatmapMatrixD.shape[1]) + 0.5, minor=False)\n",
    "a = ax.set_yticks(np.arange(djheatmapMatrixD.shape[0]) + 0.5, minor=False)\n",
    "\n",
    "a = ax.set_xticklabels(djtargetDocs, minor=False, rotation=270)\n",
    "a = ax.set_yticklabels(djtargetDocs, minor=False)"
   ]
  },
  {
   "cell_type": "markdown",
   "metadata": {},
   "source": [
    "There seems to be a lot of regularity to the posts. I need to look into why that is."
   ]
  },
  {
   "cell_type": "code",
   "execution_count": 37,
   "metadata": {},
   "outputs": [
    {
     "data": {
      "image/png": "[encoded data removed]",
      "text/plain": [
       "<matplotlib.figure.Figure at 0x1242ea780>"
      ]
     },
     "metadata": {},
     "output_type": "display_data"
    }
   ],
   "source": [
    "# heatmap that compares documents against keywords\n",
    "djheatmapMatrixC = []\n",
    "\n",
    "for tagOuter in djtargetDocs:\n",
    "    column = []\n",
    "    tagVec = djD2V.docvecs[tagOuter].reshape(1, -1)\n",
    "    for tagInner in djkeywords:\n",
    "        column.append(sklearn.metrics.pairwise.cosine_similarity(tagVec, djD2V.docvecs[tagInner].reshape(1, -1))[0][0])\n",
    "    djheatmapMatrixC.append(column)\n",
    "djheatmapMatrixC = np.array(djheatmapMatrixC)\n",
    "\n",
    "fig, ax = plt.subplots()\n",
    "hmap = ax.pcolor(djheatmapMatrixC, cmap='terrain')\n",
    "cbar = plt.colorbar(hmap)\n",
    "\n",
    "cbar.set_label('cosine similarity', rotation=270)\n",
    "a = ax.set_xticks(np.arange(djheatmapMatrixC.shape[1]) + 0.5, minor=False)\n",
    "a = ax.set_yticks(np.arange(djheatmapMatrixC.shape[0]) + 0.5, minor=False)\n",
    "\n",
    "a = ax.set_xticklabels(djkeywords, minor=False, rotation=270)\n",
    "a = ax.set_yticklabels(djtargetDocs, minor=False)"
   ]
  },
  {
   "cell_type": "markdown",
   "metadata": {},
   "source": [
    "It would seem that sex is semantically similar to many of these documents. I'm not quite sure what to make of this, especially since this is only a snapshot of 10 of the documents ..."
   ]
  },
  {
   "cell_type": "code",
   "execution_count": 38,
   "metadata": {},
   "outputs": [
    {
     "data": {
      "text/plain": [
       "0     http://www.sosuave.net/forum/showthread.php?t=...\n",
       "1     http://www.sosuave.net/forum/showthread.php?t=...\n",
       "2     http://www.sosuave.net/forum/showthread.php?t=...\n",
       "3     http://www.sosuave.net/forum/showthread.php?t=...\n",
       "4     http://www.sosuave.net/forum/showthread.php?t=...\n",
       "5     http://www.sosuave.net/forum/showthread.php?t=...\n",
       "6     http://www.sosuave.net/forum/showthread.php?t=...\n",
       "7     http://www.sosuave.net/forum/showthread.php?t=...\n",
       "8     http://www.sosuave.net/forum/showthread.php?t=...\n",
       "9     http://www.sosuave.net/forum/showthread.php?t=...\n",
       "10    http://www.sosuave.net/forum/showthread.php?t=...\n",
       "11    http://www.sosuave.net/forum/showthread.php?t=...\n",
       "12    http://www.sosuave.net/forum/showthread.php?t=...\n",
       "13    http://www.sosuave.net/forum/showthread.php?t=...\n",
       "14    http://www.sosuave.net/forum/showthread.php?t=...\n",
       "Name: url, dtype: object"
      ]
     },
     "execution_count": 38,
     "metadata": {},
     "output_type": "execute_result"
    }
   ],
   "source": [
    "djtargetDocs"
   ]
  },
  {
   "cell_type": "markdown",
   "metadata": {},
   "source": [
    "I'll compare the cosine-similarities of all the documents to a select few words: ``sex``, ``love``, ``girlfriend``, ``confidence``."
   ]
  },
  {
   "cell_type": "code",
   "execution_count": 39,
   "metadata": {},
   "outputs": [
    {
     "data": {
      "text/plain": [
       "[array([[0.99768674]], dtype=float32),\n",
       " array([[0.9995054]], dtype=float32),\n",
       " array([[-0.9990675]], dtype=float32),\n",
       " array([[0.06288355]], dtype=float32),\n",
       " array([[0.99945724]], dtype=float32),\n",
       " array([[0.9995463]], dtype=float32),\n",
       " array([[0.9989818]], dtype=float32),\n",
       " array([[0.99585545]], dtype=float32),\n",
       " array([[0.99970967]], dtype=float32),\n",
       " array([[0.99891376]], dtype=float32),\n",
       " array([[-0.9528847]], dtype=float32),\n",
       " array([[-0.99788654]], dtype=float32),\n",
       " array([[0.9995678]], dtype=float32),\n",
       " array([[0.9997278]], dtype=float32),\n",
       " array([[0.9989606]], dtype=float32),\n",
       " array([[0.9988935]], dtype=float32),\n",
       " array([[0.99745065]], dtype=float32),\n",
       " array([[0.9992653]], dtype=float32),\n",
       " array([[0.9979989]], dtype=float32),\n",
       " array([[0.9996546]], dtype=float32),\n",
       " array([[0.9995231]], dtype=float32),\n",
       " array([[-0.9984889]], dtype=float32),\n",
       " array([[0.99585587]], dtype=float32),\n",
       " array([[0.9995912]], dtype=float32),\n",
       " array([[0.99948233]], dtype=float32),\n",
       " array([[0.9993384]], dtype=float32),\n",
       " array([[0.9996841]], dtype=float32),\n",
       " array([[0.9991254]], dtype=float32),\n",
       " array([[0.9945264]], dtype=float32),\n",
       " array([[0.99916637]], dtype=float32),\n",
       " array([[0.99964184]], dtype=float32),\n",
       " array([[0.99951285]], dtype=float32),\n",
       " array([[0.9995918]], dtype=float32),\n",
       " array([[0.9995918]], dtype=float32),\n",
       " array([[0.99671966]], dtype=float32),\n",
       " array([[0.9996743]], dtype=float32),\n",
       " array([[0.999772]], dtype=float32),\n",
       " array([[0.9995366]], dtype=float32),\n",
       " array([[0.99940884]], dtype=float32),\n",
       " array([[0.9989952]], dtype=float32),\n",
       " array([[0.99840456]], dtype=float32),\n",
       " array([[0.99920547]], dtype=float32),\n",
       " array([[0.9987767]], dtype=float32),\n",
       " array([[0.9996004]], dtype=float32),\n",
       " array([[-0.9979022]], dtype=float32),\n",
       " array([[0.99970794]], dtype=float32),\n",
       " array([[0.99963504]], dtype=float32),\n",
       " array([[0.9997397]], dtype=float32),\n",
       " array([[0.99966156]], dtype=float32),\n",
       " array([[-0.95742434]], dtype=float32),\n",
       " array([[0.99934804]], dtype=float32),\n",
       " array([[0.9997434]], dtype=float32),\n",
       " array([[0.99885577]], dtype=float32),\n",
       " array([[0.99965537]], dtype=float32),\n",
       " array([[0.99971557]], dtype=float32),\n",
       " array([[0.99933535]], dtype=float32),\n",
       " array([[-0.99911237]], dtype=float32),\n",
       " array([[0.9996841]], dtype=float32),\n",
       " array([[0.99964416]], dtype=float32),\n",
       " array([[-0.9979178]], dtype=float32),\n",
       " array([[-0.9093751]], dtype=float32),\n",
       " array([[0.99456847]], dtype=float32),\n",
       " array([[-0.98516524]], dtype=float32),\n",
       " array([[-0.9996498]], dtype=float32),\n",
       " array([[0.9586894]], dtype=float32),\n",
       " array([[0.9991237]], dtype=float32),\n",
       " array([[0.9996719]], dtype=float32),\n",
       " array([[0.99976605]], dtype=float32),\n",
       " array([[-0.99901164]], dtype=float32),\n",
       " array([[0.996216]], dtype=float32),\n",
       " array([[0.9823093]], dtype=float32),\n",
       " array([[0.99974495]], dtype=float32),\n",
       " array([[0.9997223]], dtype=float32),\n",
       " array([[0.9995157]], dtype=float32),\n",
       " array([[0.9996946]], dtype=float32),\n",
       " array([[0.9985913]], dtype=float32),\n",
       " array([[0.9996401]], dtype=float32),\n",
       " array([[0.99953544]], dtype=float32),\n",
       " array([[0.97498673]], dtype=float32),\n",
       " array([[0.8733094]], dtype=float32),\n",
       " array([[-0.9990136]], dtype=float32),\n",
       " array([[-0.99809897]], dtype=float32),\n",
       " array([[0.99853724]], dtype=float32),\n",
       " array([[0.9990845]], dtype=float32),\n",
       " array([[0.9994336]], dtype=float32),\n",
       " array([[0.99967206]], dtype=float32),\n",
       " array([[0.9989905]], dtype=float32),\n",
       " array([[0.99946654]], dtype=float32),\n",
       " array([[0.99740344]], dtype=float32),\n",
       " array([[0.99911016]], dtype=float32),\n",
       " array([[0.9997259]], dtype=float32),\n",
       " array([[0.9997385]], dtype=float32),\n",
       " array([[-0.99882835]], dtype=float32),\n",
       " array([[0.9994268]], dtype=float32),\n",
       " array([[0.99971426]], dtype=float32),\n",
       " array([[0.9960434]], dtype=float32),\n",
       " array([[0.97154105]], dtype=float32),\n",
       " array([[0.9989293]], dtype=float32),\n",
       " array([[0.99973327]], dtype=float32),\n",
       " array([[0.9996666]], dtype=float32),\n",
       " array([[0.99975646]], dtype=float32),\n",
       " array([[0.99856275]], dtype=float32),\n",
       " array([[0.99910414]], dtype=float32),\n",
       " array([[-0.9947272]], dtype=float32),\n",
       " array([[0.9995925]], dtype=float32),\n",
       " array([[-0.99866825]], dtype=float32),\n",
       " array([[-0.98474735]], dtype=float32),\n",
       " array([[0.99969095]], dtype=float32),\n",
       " array([[0.99956214]], dtype=float32),\n",
       " array([[0.9996287]], dtype=float32),\n",
       " array([[0.99458975]], dtype=float32),\n",
       " array([[0.9950617]], dtype=float32),\n",
       " array([[0.97475016]], dtype=float32),\n",
       " array([[0.9875752]], dtype=float32),\n",
       " array([[0.9958859]], dtype=float32),\n",
       " array([[0.999655]], dtype=float32),\n",
       " array([[0.9993761]], dtype=float32),\n",
       " array([[0.99841446]], dtype=float32),\n",
       " array([[-0.96329516]], dtype=float32),\n",
       " array([[-0.9613032]], dtype=float32),\n",
       " array([[0.99867195]], dtype=float32),\n",
       " array([[0.99960154]], dtype=float32),\n",
       " array([[0.99769795]], dtype=float32),\n",
       " array([[0.99966925]], dtype=float32),\n",
       " array([[0.99965286]], dtype=float32),\n",
       " array([[0.9997045]], dtype=float32),\n",
       " array([[0.9975303]], dtype=float32),\n",
       " array([[0.99745715]], dtype=float32),\n",
       " array([[0.99972665]], dtype=float32),\n",
       " array([[0.99960047]], dtype=float32),\n",
       " array([[0.99962175]], dtype=float32),\n",
       " array([[0.9995631]], dtype=float32),\n",
       " array([[0.9989344]], dtype=float32),\n",
       " array([[0.9988816]], dtype=float32),\n",
       " array([[0.99429417]], dtype=float32),\n",
       " array([[0.99951065]], dtype=float32),\n",
       " array([[0.99845344]], dtype=float32),\n",
       " array([[0.9995411]], dtype=float32),\n",
       " array([[0.49413735]], dtype=float32),\n",
       " array([[0.9994018]], dtype=float32),\n",
       " array([[0.5024615]], dtype=float32),\n",
       " array([[0.99973065]], dtype=float32),\n",
       " array([[-0.9989803]], dtype=float32),\n",
       " array([[0.99953675]], dtype=float32),\n",
       " array([[0.9996591]], dtype=float32),\n",
       " array([[0.34557655]], dtype=float32),\n",
       " array([[-0.995774]], dtype=float32),\n",
       " array([[0.99166614]], dtype=float32),\n",
       " array([[0.99940884]], dtype=float32),\n",
       " array([[-0.9997006]], dtype=float32),\n",
       " array([[0.9997259]], dtype=float32),\n",
       " array([[0.99890316]], dtype=float32),\n",
       " array([[-0.99644023]], dtype=float32),\n",
       " array([[0.9993486]], dtype=float32),\n",
       " array([[0.9994839]], dtype=float32),\n",
       " array([[0.999116]], dtype=float32),\n",
       " array([[0.99970925]], dtype=float32),\n",
       " array([[0.9934257]], dtype=float32),\n",
       " array([[0.9992497]], dtype=float32),\n",
       " array([[0.99921685]], dtype=float32),\n",
       " array([[0.99963176]], dtype=float32),\n",
       " array([[0.98278546]], dtype=float32),\n",
       " array([[-0.9978649]], dtype=float32),\n",
       " array([[0.99938154]], dtype=float32),\n",
       " array([[0.999605]], dtype=float32),\n",
       " array([[0.99977875]], dtype=float32),\n",
       " array([[0.99964947]], dtype=float32),\n",
       " array([[0.9994916]], dtype=float32),\n",
       " array([[0.9986535]], dtype=float32),\n",
       " array([[0.8240443]], dtype=float32),\n",
       " array([[0.9990821]], dtype=float32),\n",
       " array([[0.9893676]], dtype=float32),\n",
       " array([[-0.99965507]], dtype=float32),\n",
       " array([[0.99901944]], dtype=float32),\n",
       " array([[0.99745417]], dtype=float32),\n",
       " array([[0.88774824]], dtype=float32),\n",
       " array([[0.99866676]], dtype=float32),\n",
       " array([[0.9994742]], dtype=float32),\n",
       " array([[0.99894357]], dtype=float32),\n",
       " array([[-0.9993369]], dtype=float32),\n",
       " array([[0.9995516]], dtype=float32),\n",
       " array([[0.999442]], dtype=float32),\n",
       " array([[0.9986369]], dtype=float32),\n",
       " array([[0.9980961]], dtype=float32),\n",
       " array([[0.99682957]], dtype=float32),\n",
       " array([[-0.9989083]], dtype=float32),\n",
       " array([[0.99977994]], dtype=float32),\n",
       " array([[0.99908155]], dtype=float32),\n",
       " array([[0.9994582]], dtype=float32),\n",
       " array([[-0.9971929]], dtype=float32),\n",
       " array([[0.99969685]], dtype=float32),\n",
       " array([[0.9990056]], dtype=float32),\n",
       " array([[0.9996562]], dtype=float32),\n",
       " array([[0.9996858]], dtype=float32),\n",
       " array([[0.99557215]], dtype=float32),\n",
       " array([[0.9983734]], dtype=float32),\n",
       " array([[0.9973461]], dtype=float32),\n",
       " array([[0.99446285]], dtype=float32),\n",
       " array([[-0.99877435]], dtype=float32),\n",
       " array([[0.9992705]], dtype=float32),\n",
       " array([[0.99901897]], dtype=float32),\n",
       " array([[0.99915004]], dtype=float32),\n",
       " array([[0.99866897]], dtype=float32),\n",
       " array([[0.99575573]], dtype=float32),\n",
       " array([[0.9987045]], dtype=float32),\n",
       " array([[0.99969274]], dtype=float32),\n",
       " array([[0.9965712]], dtype=float32),\n",
       " array([[0.9986339]], dtype=float32),\n",
       " array([[0.9981452]], dtype=float32),\n",
       " array([[-0.99564403]], dtype=float32),\n",
       " array([[0.99966294]], dtype=float32),\n",
       " array([[0.9997977]], dtype=float32),\n",
       " array([[0.9997978]], dtype=float32),\n",
       " array([[-0.9996164]], dtype=float32),\n",
       " array([[0.9996891]], dtype=float32),\n",
       " array([[0.9996858]], dtype=float32),\n",
       " array([[-0.99207234]], dtype=float32),\n",
       " array([[0.06498809]], dtype=float32),\n",
       " array([[0.9978002]], dtype=float32),\n",
       " array([[-0.999495]], dtype=float32),\n",
       " array([[0.99929875]], dtype=float32),\n",
       " array([[0.9997037]], dtype=float32),\n",
       " array([[0.9996643]], dtype=float32),\n",
       " array([[0.9875179]], dtype=float32),\n",
       " array([[0.9996865]], dtype=float32),\n",
       " array([[0.99977005]], dtype=float32),\n",
       " array([[-0.99826854]], dtype=float32),\n",
       " array([[-0.99642634]], dtype=float32),\n",
       " array([[0.98413116]], dtype=float32),\n",
       " array([[-0.99948865]], dtype=float32),\n",
       " array([[0.9645933]], dtype=float32),\n",
       " array([[-0.99886227]], dtype=float32),\n",
       " array([[-0.9936506]], dtype=float32),\n",
       " array([[-0.9994446]], dtype=float32),\n",
       " array([[-0.9993555]], dtype=float32),\n",
       " array([[-0.5490779]], dtype=float32),\n",
       " array([[-0.9014978]], dtype=float32),\n",
       " array([[0.9994538]], dtype=float32),\n",
       " array([[-0.92081153]], dtype=float32),\n",
       " array([[0.99965364]], dtype=float32),\n",
       " array([[0.9997367]], dtype=float32)]"
      ]
     },
     "execution_count": 39,
     "metadata": {},
     "output_type": "execute_result"
    }
   ],
   "source": [
    "sexcos = []\n",
    "for index, row in djmainDF.iterrows():\n",
    "    sexcos.append(sklearn.metrics.pairwise.cosine_similarity(djD2V.docvecs[row['url']].reshape(1, -1),djD2V['sex'].reshape(1,-1)))\n",
    "sexcos   "
   ]
  },
  {
   "cell_type": "code",
   "execution_count": 40,
   "metadata": {},
   "outputs": [
    {
     "data": {
      "text/plain": [
       "[array([[0.9963367]], dtype=float32),\n",
       " array([[0.9996803]], dtype=float32),\n",
       " array([[-0.9980588]], dtype=float32),\n",
       " array([[0.07090943]], dtype=float32),\n",
       " array([[0.9986768]], dtype=float32),\n",
       " array([[0.9995951]], dtype=float32),\n",
       " array([[0.9982599]], dtype=float32),\n",
       " array([[0.9976825]], dtype=float32),\n",
       " array([[0.9994063]], dtype=float32),\n",
       " array([[0.9980747]], dtype=float32),\n",
       " array([[-0.9467302]], dtype=float32),\n",
       " array([[-0.99672693]], dtype=float32),\n",
       " array([[0.9991628]], dtype=float32),\n",
       " array([[0.9992859]], dtype=float32),\n",
       " array([[0.9994667]], dtype=float32),\n",
       " array([[0.99850976]], dtype=float32),\n",
       " array([[0.9966147]], dtype=float32),\n",
       " array([[0.9985966]], dtype=float32),\n",
       " array([[0.9976673]], dtype=float32),\n",
       " array([[0.99916494]], dtype=float32),\n",
       " array([[0.99922395]], dtype=float32),\n",
       " array([[-0.99889755]], dtype=float32),\n",
       " array([[0.9956886]], dtype=float32),\n",
       " array([[0.9991598]], dtype=float32),\n",
       " array([[0.9991799]], dtype=float32),\n",
       " array([[0.99908936]], dtype=float32),\n",
       " array([[0.999168]], dtype=float32),\n",
       " array([[0.99889416]], dtype=float32),\n",
       " array([[0.9960122]], dtype=float32),\n",
       " array([[0.9991728]], dtype=float32),\n",
       " array([[0.9991732]], dtype=float32),\n",
       " array([[0.9988729]], dtype=float32),\n",
       " array([[0.9990286]], dtype=float32),\n",
       " array([[0.9990286]], dtype=float32),\n",
       " array([[0.9958913]], dtype=float32),\n",
       " array([[0.99923754]], dtype=float32),\n",
       " array([[0.99934167]], dtype=float32),\n",
       " array([[0.99898005]], dtype=float32),\n",
       " array([[0.9991532]], dtype=float32),\n",
       " array([[0.9979319]], dtype=float32),\n",
       " array([[0.99859005]], dtype=float32),\n",
       " array([[0.999158]], dtype=float32),\n",
       " array([[0.99867684]], dtype=float32),\n",
       " array([[0.99912125]], dtype=float32),\n",
       " array([[-0.99707365]], dtype=float32),\n",
       " array([[0.99918556]], dtype=float32),\n",
       " array([[0.9990618]], dtype=float32),\n",
       " array([[0.99924535]], dtype=float32),\n",
       " array([[0.999137]], dtype=float32),\n",
       " array([[-0.95193017]], dtype=float32),\n",
       " array([[0.99882]], dtype=float32),\n",
       " array([[0.99954885]], dtype=float32),\n",
       " array([[0.9977373]], dtype=float32),\n",
       " array([[0.9991035]], dtype=float32),\n",
       " array([[0.99925303]], dtype=float32),\n",
       " array([[0.99857706]], dtype=float32),\n",
       " array([[-0.9980922]], dtype=float32),\n",
       " array([[0.9993773]], dtype=float32),\n",
       " array([[0.9990058]], dtype=float32),\n",
       " array([[-0.99904406]], dtype=float32),\n",
       " array([[-0.9194466]], dtype=float32),\n",
       " array([[0.9941788]], dtype=float32),\n",
       " array([[-0.9823041]], dtype=float32),\n",
       " array([[-0.99920034]], dtype=float32),\n",
       " array([[0.9515306]], dtype=float32),\n",
       " array([[0.9985687]], dtype=float32),\n",
       " array([[0.99923015]], dtype=float32),\n",
       " array([[0.99929154]], dtype=float32),\n",
       " array([[-0.99806726]], dtype=float32),\n",
       " array([[0.9943929]], dtype=float32),\n",
       " array([[0.98149776]], dtype=float32),\n",
       " array([[0.9993274]], dtype=float32),\n",
       " array([[0.9992445]], dtype=float32),\n",
       " array([[0.99909794]], dtype=float32),\n",
       " array([[0.99920696]], dtype=float32),\n",
       " array([[0.9980522]], dtype=float32),\n",
       " array([[0.99916905]], dtype=float32),\n",
       " array([[0.9990505]], dtype=float32),\n",
       " array([[0.97214437]], dtype=float32),\n",
       " array([[0.87702656]], dtype=float32),\n",
       " array([[-0.99874806]], dtype=float32),\n",
       " array([[-0.9984858]], dtype=float32),\n",
       " array([[0.9979957]], dtype=float32),\n",
       " array([[0.9985088]], dtype=float32),\n",
       " array([[0.9991062]], dtype=float32),\n",
       " array([[0.9992346]], dtype=float32),\n",
       " array([[0.9983566]], dtype=float32),\n",
       " array([[0.9989427]], dtype=float32),\n",
       " array([[0.99640393]], dtype=float32),\n",
       " array([[0.99841434]], dtype=float32),\n",
       " array([[0.9992353]], dtype=float32),\n",
       " array([[0.99927163]], dtype=float32),\n",
       " array([[-0.99794406]], dtype=float32),\n",
       " array([[0.99874]], dtype=float32),\n",
       " array([[0.9992356]], dtype=float32),\n",
       " array([[0.99518645]], dtype=float32),\n",
       " array([[0.96936214]], dtype=float32),\n",
       " array([[0.99770486]], dtype=float32),\n",
       " array([[0.99931157]], dtype=float32),\n",
       " array([[0.99905634]], dtype=float32),\n",
       " array([[0.9992459]], dtype=float32),\n",
       " array([[0.9980954]], dtype=float32),\n",
       " array([[0.99817497]], dtype=float32),\n",
       " array([[-0.99548453]], dtype=float32),\n",
       " array([[0.99897534]], dtype=float32),\n",
       " array([[-0.9974288]], dtype=float32),\n",
       " array([[-0.9863211]], dtype=float32),\n",
       " array([[0.99915266]], dtype=float32),\n",
       " array([[0.9991394]], dtype=float32),\n",
       " array([[0.99912894]], dtype=float32),\n",
       " array([[0.995533]], dtype=float32),\n",
       " array([[0.9962271]], dtype=float32),\n",
       " array([[0.97621286]], dtype=float32),\n",
       " array([[0.9906876]], dtype=float32),\n",
       " array([[0.99476993]], dtype=float32),\n",
       " array([[0.9991771]], dtype=float32),\n",
       " array([[0.99953526]], dtype=float32),\n",
       " array([[0.9978871]], dtype=float32),\n",
       " array([[-0.9590196]], dtype=float32),\n",
       " array([[-0.9566175]], dtype=float32),\n",
       " array([[0.9982395]], dtype=float32),\n",
       " array([[0.99883753]], dtype=float32),\n",
       " array([[0.9969977]], dtype=float32),\n",
       " array([[0.9992824]], dtype=float32),\n",
       " array([[0.9993184]], dtype=float32),\n",
       " array([[0.99925566]], dtype=float32),\n",
       " array([[0.9960785]], dtype=float32),\n",
       " array([[0.9971551]], dtype=float32),\n",
       " array([[0.99915916]], dtype=float32),\n",
       " array([[0.9994901]], dtype=float32),\n",
       " array([[0.99947804]], dtype=float32),\n",
       " array([[0.9993903]], dtype=float32),\n",
       " array([[0.9990216]], dtype=float32),\n",
       " array([[0.9989128]], dtype=float32),\n",
       " array([[0.99482083]], dtype=float32),\n",
       " array([[0.9989109]], dtype=float32),\n",
       " array([[0.9973676]], dtype=float32),\n",
       " array([[0.99950093]], dtype=float32),\n",
       " array([[0.49053478]], dtype=float32),\n",
       " array([[0.9990778]], dtype=float32),\n",
       " array([[0.50300026]], dtype=float32),\n",
       " array([[0.9991468]], dtype=float32),\n",
       " array([[-0.99794257]], dtype=float32),\n",
       " array([[0.9991708]], dtype=float32),\n",
       " array([[0.9992536]], dtype=float32),\n",
       " array([[0.36109483]], dtype=float32),\n",
       " array([[-0.9935686]], dtype=float32),\n",
       " array([[0.9892229]], dtype=float32),\n",
       " array([[0.9991532]], dtype=float32),\n",
       " array([[-0.9993286]], dtype=float32),\n",
       " array([[0.99937123]], dtype=float32),\n",
       " array([[0.99849606]], dtype=float32),\n",
       " array([[-0.9966485]], dtype=float32),\n",
       " array([[0.99853766]], dtype=float32),\n",
       " array([[0.9993633]], dtype=float32),\n",
       " array([[0.99940395]], dtype=float32),\n",
       " array([[0.9992245]], dtype=float32),\n",
       " array([[0.99157065]], dtype=float32),\n",
       " array([[0.9987954]], dtype=float32),\n",
       " array([[0.9992068]], dtype=float32),\n",
       " array([[0.9990676]], dtype=float32),\n",
       " array([[0.9826203]], dtype=float32),\n",
       " array([[-0.9969538]], dtype=float32),\n",
       " array([[0.9989658]], dtype=float32),\n",
       " array([[0.99922496]], dtype=float32),\n",
       " array([[0.99936926]], dtype=float32),\n",
       " array([[0.99942666]], dtype=float32),\n",
       " array([[0.9993424]], dtype=float32),\n",
       " array([[0.99815124]], dtype=float32),\n",
       " array([[0.82892597]], dtype=float32),\n",
       " array([[0.99912167]], dtype=float32),\n",
       " array([[0.98968744]], dtype=float32),\n",
       " array([[-0.9990618]], dtype=float32),\n",
       " array([[0.9989617]], dtype=float32),\n",
       " array([[0.99779844]], dtype=float32),\n",
       " array([[0.8792118]], dtype=float32),\n",
       " array([[0.9978155]], dtype=float32),\n",
       " array([[0.9989717]], dtype=float32),\n",
       " array([[0.99798244]], dtype=float32),\n",
       " array([[-0.998606]], dtype=float32),\n",
       " array([[0.99884844]], dtype=float32),\n",
       " array([[0.9986626]], dtype=float32),\n",
       " array([[0.9972456]], dtype=float32),\n",
       " array([[0.99641967]], dtype=float32),\n",
       " array([[0.99633026]], dtype=float32),\n",
       " array([[-0.99889493]], dtype=float32),\n",
       " array([[0.9994137]], dtype=float32),\n",
       " array([[0.99954593]], dtype=float32),\n",
       " array([[0.9988639]], dtype=float32),\n",
       " array([[-0.99828446]], dtype=float32),\n",
       " array([[0.99913245]], dtype=float32),\n",
       " array([[0.9978765]], dtype=float32),\n",
       " array([[0.99910116]], dtype=float32),\n",
       " array([[0.99935424]], dtype=float32),\n",
       " array([[0.9932849]], dtype=float32),\n",
       " array([[0.9971145]], dtype=float32),\n",
       " array([[0.99715555]], dtype=float32),\n",
       " array([[0.99261826]], dtype=float32),\n",
       " array([[-0.9994622]], dtype=float32),\n",
       " array([[0.998287]], dtype=float32),\n",
       " array([[0.998618]], dtype=float32),\n",
       " array([[0.9983858]], dtype=float32),\n",
       " array([[0.9983205]], dtype=float32),\n",
       " array([[0.9952433]], dtype=float32),\n",
       " array([[0.9984883]], dtype=float32),\n",
       " array([[0.99918103]], dtype=float32),\n",
       " array([[0.9962142]], dtype=float32),\n",
       " array([[0.9975077]], dtype=float32),\n",
       " array([[0.9973621]], dtype=float32),\n",
       " array([[-0.9936792]], dtype=float32),\n",
       " array([[0.99949646]], dtype=float32),\n",
       " array([[0.9992481]], dtype=float32),\n",
       " array([[0.99937385]], dtype=float32),\n",
       " array([[-0.99899226]], dtype=float32),\n",
       " array([[0.99920464]], dtype=float32),\n",
       " array([[0.99928135]], dtype=float32),\n",
       " array([[-0.9906709]], dtype=float32),\n",
       " array([[0.08004324]], dtype=float32),\n",
       " array([[0.99759835]], dtype=float32),\n",
       " array([[-0.998775]], dtype=float32),\n",
       " array([[0.9993533]], dtype=float32),\n",
       " array([[0.9991123]], dtype=float32),\n",
       " array([[0.9991893]], dtype=float32),\n",
       " array([[0.98805267]], dtype=float32),\n",
       " array([[0.99915403]], dtype=float32),\n",
       " array([[0.99928474]], dtype=float32),\n",
       " array([[-0.99746454]], dtype=float32),\n",
       " array([[-0.99629986]], dtype=float32),\n",
       " array([[0.9802636]], dtype=float32),\n",
       " array([[-0.99884915]], dtype=float32),\n",
       " array([[0.95894015]], dtype=float32),\n",
       " array([[-0.99905235]], dtype=float32),\n",
       " array([[-0.9951555]], dtype=float32),\n",
       " array([[-0.9994652]], dtype=float32),\n",
       " array([[-0.99914277]], dtype=float32),\n",
       " array([[-0.5518705]], dtype=float32),\n",
       " array([[-0.90899545]], dtype=float32),\n",
       " array([[0.99912745]], dtype=float32),\n",
       " array([[-0.92685217]], dtype=float32),\n",
       " array([[0.999244]], dtype=float32),\n",
       " array([[0.99932116]], dtype=float32)]"
      ]
     },
     "execution_count": 40,
     "metadata": {},
     "output_type": "execute_result"
    }
   ],
   "source": [
    "lovecos = []\n",
    "for index, row in djmainDF.iterrows():\n",
    "    lovecos.append(sklearn.metrics.pairwise.cosine_similarity(djD2V.docvecs[row['url']].reshape(1, -1),djD2V['love'].reshape(1,-1)))\n",
    "lovecos   "
   ]
  },
  {
   "cell_type": "code",
   "execution_count": 41,
   "metadata": {},
   "outputs": [
    {
     "data": {
      "text/plain": [
       "[array([[0.9976822]], dtype=float32),\n",
       " array([[0.9994068]], dtype=float32),\n",
       " array([[-0.9990689]], dtype=float32),\n",
       " array([[0.0626379]], dtype=float32),\n",
       " array([[0.99926805]], dtype=float32),\n",
       " array([[0.99943155]], dtype=float32),\n",
       " array([[0.9989636]], dtype=float32),\n",
       " array([[0.9956881]], dtype=float32),\n",
       " array([[0.9996031]], dtype=float32),\n",
       " array([[0.998793]], dtype=float32),\n",
       " array([[-0.9529227]], dtype=float32),\n",
       " array([[-0.9977058]], dtype=float32),\n",
       " array([[0.99950975]], dtype=float32),\n",
       " array([[0.9996683]], dtype=float32),\n",
       " array([[0.99874157]], dtype=float32),\n",
       " array([[0.99887484]], dtype=float32),\n",
       " array([[0.99766177]], dtype=float32),\n",
       " array([[0.9990032]], dtype=float32),\n",
       " array([[0.9981469]], dtype=float32),\n",
       " array([[0.999408]], dtype=float32),\n",
       " array([[0.9995882]], dtype=float32),\n",
       " array([[-0.99825794]], dtype=float32),\n",
       " array([[0.9958921]], dtype=float32),\n",
       " array([[0.99952567]], dtype=float32),\n",
       " array([[0.9993969]], dtype=float32),\n",
       " array([[0.9993859]], dtype=float32),\n",
       " array([[0.9995999]], dtype=float32),\n",
       " array([[0.99915123]], dtype=float32),\n",
       " array([[0.99458057]], dtype=float32),\n",
       " array([[0.9990321]], dtype=float32),\n",
       " array([[0.999571]], dtype=float32),\n",
       " array([[0.9995666]], dtype=float32),\n",
       " array([[0.9995855]], dtype=float32),\n",
       " array([[0.9995855]], dtype=float32),\n",
       " array([[0.9968115]], dtype=float32),\n",
       " array([[0.9996452]], dtype=float32),\n",
       " array([[0.99972]], dtype=float32),\n",
       " array([[0.9994905]], dtype=float32),\n",
       " array([[0.99931425]], dtype=float32),\n",
       " array([[0.9989154]], dtype=float32),\n",
       " array([[0.99823534]], dtype=float32),\n",
       " array([[0.9991706]], dtype=float32),\n",
       " array([[0.99856424]], dtype=float32),\n",
       " array([[0.99951583]], dtype=float32),\n",
       " array([[-0.99782485]], dtype=float32),\n",
       " array([[0.9996864]], dtype=float32),\n",
       " array([[0.9995711]], dtype=float32),\n",
       " array([[0.9997029]], dtype=float32),\n",
       " array([[0.9996411]], dtype=float32),\n",
       " array([[-0.95782715]], dtype=float32),\n",
       " array([[0.9993061]], dtype=float32),\n",
       " array([[0.999589]], dtype=float32),\n",
       " array([[0.99885905]], dtype=float32),\n",
       " array([[0.9995678]], dtype=float32),\n",
       " array([[0.9996658]], dtype=float32),\n",
       " array([[0.9993424]], dtype=float32),\n",
       " array([[-0.99920523]], dtype=float32),\n",
       " array([[0.9996078]], dtype=float32),\n",
       " array([[0.9995861]], dtype=float32),\n",
       " array([[-0.99788576]], dtype=float32),\n",
       " array([[-0.90835035]], dtype=float32),\n",
       " array([[0.9944699]], dtype=float32),\n",
       " array([[-0.9851979]], dtype=float32),\n",
       " array([[-0.9995408]], dtype=float32),\n",
       " array([[0.9589981]], dtype=float32),\n",
       " array([[0.99893135]], dtype=float32),\n",
       " array([[0.9996086]], dtype=float32),\n",
       " array([[0.99969316]], dtype=float32),\n",
       " array([[-0.9988995]], dtype=float32),\n",
       " array([[0.99625605]], dtype=float32),\n",
       " array([[0.9824706]], dtype=float32),\n",
       " array([[0.9997012]], dtype=float32),\n",
       " array([[0.999702]], dtype=float32),\n",
       " array([[0.99948984]], dtype=float32),\n",
       " array([[0.9996221]], dtype=float32),\n",
       " array([[0.9986169]], dtype=float32),\n",
       " array([[0.9997069]], dtype=float32),\n",
       " array([[0.99958545]], dtype=float32),\n",
       " array([[0.9753524]], dtype=float32),\n",
       " array([[0.87223345]], dtype=float32),\n",
       " array([[-0.99892724]], dtype=float32),\n",
       " array([[-0.99785894]], dtype=float32),\n",
       " array([[0.99873984]], dtype=float32),\n",
       " array([[0.9990747]], dtype=float32),\n",
       " array([[0.9993678]], dtype=float32),\n",
       " array([[0.99958456]], dtype=float32),\n",
       " array([[0.9989874]], dtype=float32),\n",
       " array([[0.9994117]], dtype=float32),\n",
       " array([[0.99744827]], dtype=float32),\n",
       " array([[0.9990473]], dtype=float32),\n",
       " array([[0.99964964]], dtype=float32),\n",
       " array([[0.9996872]], dtype=float32),\n",
       " array([[-0.9988219]], dtype=float32),\n",
       " array([[0.9995044]], dtype=float32),\n",
       " array([[0.99966276]], dtype=float32),\n",
       " array([[0.9966557]], dtype=float32),\n",
       " array([[0.9707169]], dtype=float32),\n",
       " array([[0.9989821]], dtype=float32),\n",
       " array([[0.99968]], dtype=float32),\n",
       " array([[0.9996597]], dtype=float32),\n",
       " array([[0.99969745]], dtype=float32),\n",
       " array([[0.9985314]], dtype=float32),\n",
       " array([[0.99907017]], dtype=float32),\n",
       " array([[-0.9947114]], dtype=float32),\n",
       " array([[0.9995643]], dtype=float32),\n",
       " array([[-0.9987194]], dtype=float32),\n",
       " array([[-0.98394537]], dtype=float32),\n",
       " array([[0.99964124]], dtype=float32),\n",
       " array([[0.9995373]], dtype=float32),\n",
       " array([[0.9995457]], dtype=float32),\n",
       " array([[0.9943645]], dtype=float32),\n",
       " array([[0.9947252]], dtype=float32),\n",
       " array([[0.9744347]], dtype=float32),\n",
       " array([[0.9871132]], dtype=float32),\n",
       " array([[0.9960721]], dtype=float32),\n",
       " array([[0.99956447]], dtype=float32),\n",
       " array([[0.99927557]], dtype=float32),\n",
       " array([[0.99838316]], dtype=float32),\n",
       " array([[-0.96363986]], dtype=float32),\n",
       " array([[-0.9613559]], dtype=float32),\n",
       " array([[0.998858]], dtype=float32),\n",
       " array([[0.999538]], dtype=float32),\n",
       " array([[0.99736834]], dtype=float32),\n",
       " array([[0.99965817]], dtype=float32),\n",
       " array([[0.99959415]], dtype=float32),\n",
       " array([[0.99965876]], dtype=float32),\n",
       " array([[0.99754035]], dtype=float32),\n",
       " array([[0.99751866]], dtype=float32),\n",
       " array([[0.9996509]], dtype=float32),\n",
       " array([[0.99962217]], dtype=float32),\n",
       " array([[0.9995735]], dtype=float32),\n",
       " array([[0.9995291]], dtype=float32),\n",
       " array([[0.99893]], dtype=float32),\n",
       " array([[0.9989015]], dtype=float32),\n",
       " array([[0.9946464]], dtype=float32),\n",
       " array([[0.9994276]], dtype=float32),\n",
       " array([[0.99845135]], dtype=float32),\n",
       " array([[0.99943167]], dtype=float32),\n",
       " array([[0.49265575]], dtype=float32),\n",
       " array([[0.9993382]], dtype=float32),\n",
       " array([[0.5007514]], dtype=float32),\n",
       " array([[0.9996838]], dtype=float32),\n",
       " array([[-0.9990376]], dtype=float32),\n",
       " array([[0.9995923]], dtype=float32),\n",
       " array([[0.9995371]], dtype=float32),\n",
       " array([[0.34552902]], dtype=float32),\n",
       " array([[-0.99562174]], dtype=float32),\n",
       " array([[0.9916424]], dtype=float32),\n",
       " array([[0.99931425]], dtype=float32),\n",
       " array([[-0.99967]], dtype=float32),\n",
       " array([[0.99970233]], dtype=float32),\n",
       " array([[0.9989009]], dtype=float32),\n",
       " array([[-0.9962182]], dtype=float32),\n",
       " array([[0.9993665]], dtype=float32),\n",
       " array([[0.99928933]], dtype=float32),\n",
       " array([[0.99908555]], dtype=float32),\n",
       " array([[0.9996713]], dtype=float32),\n",
       " array([[0.9933069]], dtype=float32),\n",
       " array([[0.9990889]], dtype=float32),\n",
       " array([[0.9993012]], dtype=float32),\n",
       " array([[0.99963117]], dtype=float32),\n",
       " array([[0.9836053]], dtype=float32),\n",
       " array([[-0.99773866]], dtype=float32),\n",
       " array([[0.99931586]], dtype=float32),\n",
       " array([[0.99957705]], dtype=float32),\n",
       " array([[0.9996921]], dtype=float32),\n",
       " array([[0.9995165]], dtype=float32),\n",
       " array([[0.9994209]], dtype=float32),\n",
       " array([[0.99857575]], dtype=float32),\n",
       " array([[0.8219321]], dtype=float32),\n",
       " array([[0.9990483]], dtype=float32),\n",
       " array([[0.98943454]], dtype=float32),\n",
       " array([[-0.99960065]], dtype=float32),\n",
       " array([[0.9990223]], dtype=float32),\n",
       " array([[0.99733704]], dtype=float32),\n",
       " array([[0.8895844]], dtype=float32),\n",
       " array([[0.998664]], dtype=float32),\n",
       " array([[0.99948597]], dtype=float32),\n",
       " array([[0.9988874]], dtype=float32),\n",
       " array([[-0.999293]], dtype=float32),\n",
       " array([[0.99950457]], dtype=float32),\n",
       " array([[0.99940264]], dtype=float32),\n",
       " array([[0.99868876]], dtype=float32),\n",
       " array([[0.9981536]], dtype=float32),\n",
       " array([[0.99680656]], dtype=float32),\n",
       " array([[-0.99894243]], dtype=float32),\n",
       " array([[0.9996886]], dtype=float32),\n",
       " array([[0.99896336]], dtype=float32),\n",
       " array([[0.99929965]], dtype=float32),\n",
       " array([[-0.99680835]], dtype=float32),\n",
       " array([[0.99966526]], dtype=float32),\n",
       " array([[0.9989358]], dtype=float32),\n",
       " array([[0.999581]], dtype=float32),\n",
       " array([[0.9996345]], dtype=float32),\n",
       " array([[0.9952238]], dtype=float32),\n",
       " array([[0.99816155]], dtype=float32),\n",
       " array([[0.99707013]], dtype=float32),\n",
       " array([[0.9947627]], dtype=float32),\n",
       " array([[-0.9987775]], dtype=float32),\n",
       " array([[0.9991517]], dtype=float32),\n",
       " array([[0.9989636]], dtype=float32),\n",
       " array([[0.99897647]], dtype=float32),\n",
       " array([[0.9987811]], dtype=float32),\n",
       " array([[0.99600494]], dtype=float32),\n",
       " array([[0.99856436]], dtype=float32),\n",
       " array([[0.9996469]], dtype=float32),\n",
       " array([[0.99685013]], dtype=float32),\n",
       " array([[0.99849]], dtype=float32),\n",
       " array([[0.99792093]], dtype=float32),\n",
       " array([[-0.995654]], dtype=float32),\n",
       " array([[0.9995186]], dtype=float32),\n",
       " array([[0.9997427]], dtype=float32),\n",
       " array([[0.9997089]], dtype=float32),\n",
       " array([[-0.9996136]], dtype=float32),\n",
       " array([[0.9996471]], dtype=float32),\n",
       " array([[0.99962205]], dtype=float32),\n",
       " array([[-0.9921598]], dtype=float32),\n",
       " array([[0.06276198]], dtype=float32),\n",
       " array([[0.99781877]], dtype=float32),\n",
       " array([[-0.9994569]], dtype=float32),\n",
       " array([[0.99917984]], dtype=float32),\n",
       " array([[0.9995793]], dtype=float32),\n",
       " array([[0.99961424]], dtype=float32),\n",
       " array([[0.987185]], dtype=float32),\n",
       " array([[0.99964726]], dtype=float32),\n",
       " array([[0.9996796]], dtype=float32),\n",
       " array([[-0.99797785]], dtype=float32),\n",
       " array([[-0.9962164]], dtype=float32),\n",
       " array([[0.98405457]], dtype=float32),\n",
       " array([[-0.99946207]], dtype=float32),\n",
       " array([[0.9651298]], dtype=float32),\n",
       " array([[-0.99873984]], dtype=float32),\n",
       " array([[-0.99326885]], dtype=float32),\n",
       " array([[-0.99942416]], dtype=float32),\n",
       " array([[-0.9993516]], dtype=float32),\n",
       " array([[-0.547079]], dtype=float32),\n",
       " array([[-0.9009883]], dtype=float32),\n",
       " array([[0.9994315]], dtype=float32),\n",
       " array([[-0.9202461]], dtype=float32),\n",
       " array([[0.9995872]], dtype=float32),\n",
       " array([[0.99968845]], dtype=float32)]"
      ]
     },
     "execution_count": 41,
     "metadata": {},
     "output_type": "execute_result"
    }
   ],
   "source": [
    "gfcos = []\n",
    "for index, row in djmainDF.iterrows():\n",
    "    gfcos.append(sklearn.metrics.pairwise.cosine_similarity(djD2V.docvecs[row['url']].reshape(1, -1),djD2V['girlfriend'].reshape(1,-1)))\n",
    "gfcos   "
   ]
  },
  {
   "cell_type": "code",
   "execution_count": 42,
   "metadata": {},
   "outputs": [
    {
     "data": {
      "text/plain": [
       "[array([[0.99644625]], dtype=float32),\n",
       " array([[0.9997583]], dtype=float32),\n",
       " array([[-0.9979783]], dtype=float32),\n",
       " array([[0.0683201]], dtype=float32),\n",
       " array([[0.9987371]], dtype=float32),\n",
       " array([[0.9995147]], dtype=float32),\n",
       " array([[0.9984522]], dtype=float32),\n",
       " array([[0.9973875]], dtype=float32),\n",
       " array([[0.9994151]], dtype=float32),\n",
       " array([[0.9981005]], dtype=float32),\n",
       " array([[-0.94717574]], dtype=float32),\n",
       " array([[-0.9964716]], dtype=float32),\n",
       " array([[0.9991824]], dtype=float32),\n",
       " array([[0.99933517]], dtype=float32),\n",
       " array([[0.9993981]], dtype=float32),\n",
       " array([[0.9985686]], dtype=float32),\n",
       " array([[0.9966538]], dtype=float32),\n",
       " array([[0.998546]], dtype=float32),\n",
       " array([[0.9978728]], dtype=float32),\n",
       " array([[0.999191]], dtype=float32),\n",
       " array([[0.99922144]], dtype=float32),\n",
       " array([[-0.99886847]], dtype=float32),\n",
       " array([[0.99611795]], dtype=float32),\n",
       " array([[0.9992102]], dtype=float32),\n",
       " array([[0.9991612]], dtype=float32),\n",
       " array([[0.9992764]], dtype=float32),\n",
       " array([[0.9992603]], dtype=float32),\n",
       " array([[0.9990196]], dtype=float32),\n",
       " array([[0.99640566]], dtype=float32),\n",
       " array([[0.99936116]], dtype=float32),\n",
       " array([[0.999241]], dtype=float32),\n",
       " array([[0.99896]], dtype=float32),\n",
       " array([[0.99913037]], dtype=float32),\n",
       " array([[0.99913037]], dtype=float32),\n",
       " array([[0.99639916]], dtype=float32),\n",
       " array([[0.99924695]], dtype=float32),\n",
       " array([[0.9993432]], dtype=float32),\n",
       " array([[0.9990311]], dtype=float32),\n",
       " array([[0.9992338]], dtype=float32),\n",
       " array([[0.9980927]], dtype=float32),\n",
       " array([[0.99845123]], dtype=float32),\n",
       " array([[0.9991061]], dtype=float32),\n",
       " array([[0.9988465]], dtype=float32),\n",
       " array([[0.99917215]], dtype=float32),\n",
       " array([[-0.9974376]], dtype=float32),\n",
       " array([[0.9992507]], dtype=float32),\n",
       " array([[0.99913216]], dtype=float32),\n",
       " array([[0.9992875]], dtype=float32),\n",
       " array([[0.99917305]], dtype=float32),\n",
       " array([[-0.95233744]], dtype=float32),\n",
       " array([[0.99891675]], dtype=float32),\n",
       " array([[0.999539]], dtype=float32),\n",
       " array([[0.9977479]], dtype=float32),\n",
       " array([[0.99915487]], dtype=float32),\n",
       " array([[0.9992612]], dtype=float32),\n",
       " array([[0.9986405]], dtype=float32),\n",
       " array([[-0.9982577]], dtype=float32),\n",
       " array([[0.9994797]], dtype=float32),\n",
       " array([[0.99907404]], dtype=float32),\n",
       " array([[-0.99911356]], dtype=float32),\n",
       " array([[-0.91763544]], dtype=float32),\n",
       " array([[0.9939086]], dtype=float32),\n",
       " array([[-0.9822247]], dtype=float32),\n",
       " array([[-0.9991112]], dtype=float32),\n",
       " array([[0.95158154]], dtype=float32),\n",
       " array([[0.9985842]], dtype=float32),\n",
       " array([[0.999328]], dtype=float32),\n",
       " array([[0.9993557]], dtype=float32),\n",
       " array([[-0.9980998]], dtype=float32),\n",
       " array([[0.9947622]], dtype=float32),\n",
       " array([[0.9828503]], dtype=float32),\n",
       " array([[0.99935347]], dtype=float32),\n",
       " array([[0.9993279]], dtype=float32),\n",
       " array([[0.99919856]], dtype=float32),\n",
       " array([[0.999203]], dtype=float32),\n",
       " array([[0.997943]], dtype=float32),\n",
       " array([[0.9992208]], dtype=float32),\n",
       " array([[0.9991329]], dtype=float32),\n",
       " array([[0.9725459]], dtype=float32),\n",
       " array([[0.87479556]], dtype=float32),\n",
       " array([[-0.9988401]], dtype=float32),\n",
       " array([[-0.99846643]], dtype=float32),\n",
       " array([[0.9980796]], dtype=float32),\n",
       " array([[0.9984647]], dtype=float32),\n",
       " array([[0.9991249]], dtype=float32),\n",
       " array([[0.9992067]], dtype=float32),\n",
       " array([[0.99850225]], dtype=float32),\n",
       " array([[0.9988914]], dtype=float32),\n",
       " array([[0.99649024]], dtype=float32),\n",
       " array([[0.998479]], dtype=float32),\n",
       " array([[0.9992834]], dtype=float32),\n",
       " array([[0.99929625]], dtype=float32),\n",
       " array([[-0.99792415]], dtype=float32),\n",
       " array([[0.99879414]], dtype=float32),\n",
       " array([[0.9992534]], dtype=float32),\n",
       " array([[0.99522233]], dtype=float32),\n",
       " array([[0.9692156]], dtype=float32),\n",
       " array([[0.997845]], dtype=float32),\n",
       " array([[0.99929637]], dtype=float32),\n",
       " array([[0.9991024]], dtype=float32),\n",
       " array([[0.999299]], dtype=float32),\n",
       " array([[0.99828774]], dtype=float32),\n",
       " array([[0.99818575]], dtype=float32),\n",
       " array([[-0.9957682]], dtype=float32),\n",
       " array([[0.999074]], dtype=float32),\n",
       " array([[-0.9976063]], dtype=float32),\n",
       " array([[-0.9852985]], dtype=float32),\n",
       " array([[0.9991709]], dtype=float32),\n",
       " array([[0.9991986]], dtype=float32),\n",
       " array([[0.99916774]], dtype=float32),\n",
       " array([[0.9951061]], dtype=float32),\n",
       " array([[0.99601215]], dtype=float32),\n",
       " array([[0.9762523]], dtype=float32),\n",
       " array([[0.9902782]], dtype=float32),\n",
       " array([[0.9954115]], dtype=float32),\n",
       " array([[0.99923146]], dtype=float32),\n",
       " array([[0.9993792]], dtype=float32),\n",
       " array([[0.9979528]], dtype=float32),\n",
       " array([[-0.95960855]], dtype=float32),\n",
       " array([[-0.9572026]], dtype=float32),\n",
       " array([[0.9984361]], dtype=float32),\n",
       " array([[0.99881256]], dtype=float32),\n",
       " array([[0.99704665]], dtype=float32),\n",
       " array([[0.9992488]], dtype=float32),\n",
       " array([[0.99931735]], dtype=float32),\n",
       " array([[0.9992886]], dtype=float32),\n",
       " array([[0.99613494]], dtype=float32),\n",
       " array([[0.99720377]], dtype=float32),\n",
       " array([[0.99920374]], dtype=float32),\n",
       " array([[0.99959075]], dtype=float32),\n",
       " array([[0.99958223]], dtype=float32),\n",
       " array([[0.99947715]], dtype=float32),\n",
       " array([[0.99924207]], dtype=float32),\n",
       " array([[0.99911344]], dtype=float32),\n",
       " array([[0.9946936]], dtype=float32),\n",
       " array([[0.9989829]], dtype=float32),\n",
       " array([[0.9975198]], dtype=float32),\n",
       " array([[0.9996806]], dtype=float32),\n",
       " array([[0.48666802]], dtype=float32),\n",
       " array([[0.9991361]], dtype=float32),\n",
       " array([[0.5021682]], dtype=float32),\n",
       " array([[0.9991446]], dtype=float32),\n",
       " array([[-0.9979276]], dtype=float32),\n",
       " array([[0.99930406]], dtype=float32),\n",
       " array([[0.9993323]], dtype=float32),\n",
       " array([[0.36548185]], dtype=float32),\n",
       " array([[-0.99349767]], dtype=float32),\n",
       " array([[0.98950773]], dtype=float32),\n",
       " array([[0.9992338]], dtype=float32),\n",
       " array([[-0.99947524]], dtype=float32),\n",
       " array([[0.9993709]], dtype=float32),\n",
       " array([[0.99832404]], dtype=float32),\n",
       " array([[-0.9967297]], dtype=float32),\n",
       " array([[0.9986119]], dtype=float32),\n",
       " array([[0.9994483]], dtype=float32),\n",
       " array([[0.9996953]], dtype=float32),\n",
       " array([[0.99924636]], dtype=float32),\n",
       " array([[0.99127865]], dtype=float32),\n",
       " array([[0.9987911]], dtype=float32),\n",
       " array([[0.99932307]], dtype=float32),\n",
       " array([[0.99915403]], dtype=float32),\n",
       " array([[0.9828546]], dtype=float32),\n",
       " array([[-0.9969896]], dtype=float32),\n",
       " array([[0.9989896]], dtype=float32),\n",
       " array([[0.9992686]], dtype=float32),\n",
       " array([[0.999424]], dtype=float32),\n",
       " array([[0.99948686]], dtype=float32),\n",
       " array([[0.99943393]], dtype=float32),\n",
       " array([[0.99829257]], dtype=float32),\n",
       " array([[0.83105516]], dtype=float32),\n",
       " array([[0.9989626]], dtype=float32),\n",
       " array([[0.9889134]], dtype=float32),\n",
       " array([[-0.9991288]], dtype=float32),\n",
       " array([[0.998988]], dtype=float32),\n",
       " array([[0.9982464]], dtype=float32),\n",
       " array([[0.88012815]], dtype=float32),\n",
       " array([[0.99788916]], dtype=float32),\n",
       " array([[0.9990362]], dtype=float32),\n",
       " array([[0.99801654]], dtype=float32),\n",
       " array([[-0.9986995]], dtype=float32),\n",
       " array([[0.9989694]], dtype=float32),\n",
       " array([[0.99878025]], dtype=float32),\n",
       " array([[0.99734706]], dtype=float32),\n",
       " array([[0.99650425]], dtype=float32),\n",
       " array([[0.99652463]], dtype=float32),\n",
       " array([[-0.9988512]], dtype=float32),\n",
       " array([[0.9994002]], dtype=float32),\n",
       " array([[0.9994395]], dtype=float32),\n",
       " array([[0.9989686]], dtype=float32),\n",
       " array([[-0.9979287]], dtype=float32),\n",
       " array([[0.9992291]], dtype=float32),\n",
       " array([[0.9979859]], dtype=float32),\n",
       " array([[0.9992289]], dtype=float32),\n",
       " array([[0.99941194]], dtype=float32),\n",
       " array([[0.99321437]], dtype=float32),\n",
       " array([[0.9971634]], dtype=float32),\n",
       " array([[0.9975897]], dtype=float32),\n",
       " array([[0.99252474]], dtype=float32),\n",
       " array([[-0.9995312]], dtype=float32),\n",
       " array([[0.9982827]], dtype=float32),\n",
       " array([[0.9986837]], dtype=float32),\n",
       " array([[0.9984296]], dtype=float32),\n",
       " array([[0.99846953]], dtype=float32),\n",
       " array([[0.9952803]], dtype=float32),\n",
       " array([[0.99851924]], dtype=float32),\n",
       " array([[0.999202]], dtype=float32),\n",
       " array([[0.9966601]], dtype=float32),\n",
       " array([[0.99754083]], dtype=float32),\n",
       " array([[0.9975587]], dtype=float32),\n",
       " array([[-0.99382293]], dtype=float32),\n",
       " array([[0.9995369]], dtype=float32),\n",
       " array([[0.9992966]], dtype=float32),\n",
       " array([[0.99941826]], dtype=float32),\n",
       " array([[-0.9990361]], dtype=float32),\n",
       " array([[0.99924415]], dtype=float32),\n",
       " array([[0.99929184]], dtype=float32),\n",
       " array([[-0.99170166]], dtype=float32),\n",
       " array([[0.07939578]], dtype=float32),\n",
       " array([[0.99734104]], dtype=float32),\n",
       " array([[-0.99876505]], dtype=float32),\n",
       " array([[0.9992647]], dtype=float32),\n",
       " array([[0.99915975]], dtype=float32),\n",
       " array([[0.99924725]], dtype=float32),\n",
       " array([[0.9879825]], dtype=float32),\n",
       " array([[0.99914956]], dtype=float32),\n",
       " array([[0.99931943]], dtype=float32),\n",
       " array([[-0.99761724]], dtype=float32),\n",
       " array([[-0.9970171]], dtype=float32),\n",
       " array([[0.9797555]], dtype=float32),\n",
       " array([[-0.99896693]], dtype=float32),\n",
       " array([[0.9588935]], dtype=float32),\n",
       " array([[-0.9990903]], dtype=float32),\n",
       " array([[-0.9953197]], dtype=float32),\n",
       " array([[-0.999543]], dtype=float32),\n",
       " array([[-0.9992242]], dtype=float32),\n",
       " array([[-0.555784]], dtype=float32),\n",
       " array([[-0.9113291]], dtype=float32),\n",
       " array([[0.99918765]], dtype=float32),\n",
       " array([[-0.9263157]], dtype=float32),\n",
       " array([[0.9992047]], dtype=float32),\n",
       " array([[0.99935323]], dtype=float32)]"
      ]
     },
     "execution_count": 42,
     "metadata": {},
     "output_type": "execute_result"
    }
   ],
   "source": [
    "confcos = []\n",
    "for index, row in djmainDF.iterrows():\n",
    "    confcos.append(sklearn.metrics.pairwise.cosine_similarity(djD2V.docvecs[row['url']].reshape(1, -1),djD2V['confidence'].reshape(1,-1)))\n",
    "confcos   "
   ]
  },
  {
   "cell_type": "code",
   "execution_count": null,
   "metadata": {
    "collapsed": true
   },
   "outputs": [],
   "source": []
  },
  {
   "cell_type": "code",
   "execution_count": null,
   "metadata": {
    "collapsed": true
   },
   "outputs": [],
   "source": []
  },
  {
   "cell_type": "code",
   "execution_count": null,
   "metadata": {
    "collapsed": true
   },
   "outputs": [],
   "source": []
  },
  {
   "cell_type": "markdown",
   "metadata": {},
   "source": [
    "# Projection"
   ]
  },
  {
   "cell_type": "markdown",
   "metadata": {},
   "source": [
    "We can also project word vectors to an arbitray semantic dimension. To demonstrate this possibility, let's first load a model trained with New York Times news articles. "
   ]
  },
  {
   "cell_type": "code",
   "execution_count": 43,
   "metadata": {
    "collapsed": true
   },
   "outputs": [],
   "source": [
    "nytimes_model = gensim.models.KeyedVectors.load_word2vec_format('../data/nytimes_cbow.reduced.txt')"
   ]
  },
  {
   "cell_type": "markdown",
   "metadata": {},
   "source": [
    "First we can visualize with dimension reduction"
   ]
  },
  {
   "cell_type": "code",
   "execution_count": 44,
   "metadata": {},
   "outputs": [
    {
     "data": {
      "text/plain": [
       "array([[-0.343139, -0.117117, -0.50773 , ..., -0.995696,  0.921299,\n",
       "         0.943769],\n",
       "       [-0.362909, -0.263528,  0.032661, ..., -0.043032, -0.178965,\n",
       "         0.353556],\n",
       "       [-0.70167 , -0.344525, -0.320714, ...,  0.009001,  0.11055 ,\n",
       "         0.751077],\n",
       "       ...,\n",
       "       [-2.391626, -1.90143 ,  1.031182, ...,  2.947464,  1.01588 ,\n",
       "         2.00033 ],\n",
       "       [-2.432387, -1.161415,  1.060064, ...,  4.402381,  0.500471,\n",
       "         1.644596],\n",
       "       [ 0.981931,  0.628094, -0.747547, ...,  1.612927,  1.148063,\n",
       "         1.063776]], dtype=float32)"
      ]
     },
     "execution_count": 44,
     "metadata": {},
     "output_type": "execute_result"
    }
   ],
   "source": [
    "#words to create dimensions\n",
    "tnytTargetWords = ['man','him','he', 'woman', 'her', 'she', 'black','blacks','African', 'white', 'whites', 'Caucasian', 'rich', 'richer', 'richest', 'expensive', 'wealthy', 'poor', 'poorer', 'poorest', 'cheap', 'inexpensive']\n",
    "#words we will be mapping\n",
    "tnytTargetWords += [\"doctor\",\"lawyer\",\"plumber\",\"scientist\",\"hairdresser\", \"nanny\",\"carpenter\",\"entrepreneur\",\"musician\",\"writer\", \"banker\",\"poet\",\"nurse\", \"steak\", \"bacon\", \"croissant\", \"cheesecake\", \"salad\", \"cheeseburger\", \"vegetables\", \"beer\", \"wine\", \"pastry\", \"basketball\", \"baseball\", \"boxing\", \"softball\", \"volleyball\", \"tennis\", \"golf\", \"hockey\", \"soccer\"]\n",
    "\n",
    "\n",
    "wordsSubMatrix = []\n",
    "for word in tnytTargetWords:\n",
    "    wordsSubMatrix.append(nytimes_model[word])\n",
    "wordsSubMatrix = np.array(wordsSubMatrix)\n",
    "wordsSubMatrix"
   ]
  },
  {
   "cell_type": "code",
   "execution_count": 59,
   "metadata": {},
   "outputs": [
    {
     "data": {
      "text/plain": [
       "['man',\n",
       " 'him',\n",
       " 'he',\n",
       " 'woman',\n",
       " 'her',\n",
       " 'she',\n",
       " 'black',\n",
       " 'blacks',\n",
       " 'African',\n",
       " 'white',\n",
       " 'whites',\n",
       " 'Caucasian',\n",
       " 'rich',\n",
       " 'richer',\n",
       " 'richest',\n",
       " 'expensive',\n",
       " 'wealthy',\n",
       " 'poor',\n",
       " 'poorer',\n",
       " 'poorest',\n",
       " 'cheap',\n",
       " 'inexpensive',\n",
       " 'doctor',\n",
       " 'lawyer',\n",
       " 'plumber',\n",
       " 'scientist',\n",
       " 'hairdresser',\n",
       " 'nanny',\n",
       " 'carpenter',\n",
       " 'entrepreneur',\n",
       " 'musician',\n",
       " 'writer',\n",
       " 'banker',\n",
       " 'poet',\n",
       " 'nurse',\n",
       " 'steak',\n",
       " 'bacon',\n",
       " 'croissant',\n",
       " 'cheesecake',\n",
       " 'salad',\n",
       " 'cheeseburger',\n",
       " 'vegetables',\n",
       " 'beer',\n",
       " 'wine',\n",
       " 'pastry',\n",
       " 'basketball',\n",
       " 'baseball',\n",
       " 'boxing',\n",
       " 'softball',\n",
       " 'volleyball',\n",
       " 'tennis',\n",
       " 'golf',\n",
       " 'hockey',\n",
       " 'soccer']"
      ]
     },
     "execution_count": 59,
     "metadata": {},
     "output_type": "execute_result"
    }
   ],
   "source": [
    "tnytTargetWords"
   ]
  },
  {
   "cell_type": "code",
   "execution_count": 45,
   "metadata": {
    "collapsed": true
   },
   "outputs": [],
   "source": [
    "pcaWordsNYT = sklearn.decomposition.PCA(n_components = 50).fit(wordsSubMatrix)\n",
    "reducedPCA_dataNYT = pcaWordsNYT.transform(wordsSubMatrix)\n",
    "#T-SNE is theoretically better, but you should experiment\n",
    "tsneWordsNYT = sklearn.manifold.TSNE(n_components = 2).fit_transform(reducedPCA_dataNYT)"
   ]
  },
  {
   "cell_type": "code",
   "execution_count": 46,
   "metadata": {},
   "outputs": [
    {
     "data": {
      "image/png": "[encoded data removed]",
      "text/plain": [
       "<matplotlib.figure.Figure at 0x125a21e80>"
      ]
     },
     "metadata": {},
     "output_type": "display_data"
    }
   ],
   "source": [
    "fig = plt.figure(figsize = (10,6))\n",
    "ax = fig.add_subplot(111)\n",
    "ax.set_frame_on(False)\n",
    "plt.scatter(tsneWordsNYT[:, 0], tsneWordsNYT[:, 1], alpha = 0) #Making the points invisible\n",
    "for i, word in enumerate(tnytTargetWords):\n",
    "    ax.annotate(word, (tsneWordsNYT[:, 0][i],tsneWordsNYT[:, 1][i]), size =  20 * (len(tnytTargetWords) - i) / len(tnytTargetWords))\n",
    "plt.xticks(())\n",
    "plt.yticks(())\n",
    "plt.show()"
   ]
  },
  {
   "cell_type": "markdown",
   "metadata": {},
   "source": [
    "Define some convenient functions for getting dimensions. "
   ]
  },
  {
   "cell_type": "code",
   "execution_count": 50,
   "metadata": {
    "collapsed": true
   },
   "outputs": [],
   "source": [
    "def normalize(vector):\n",
    "    normalized_vector = vector / np.linalg.norm(vector)\n",
    "    return normalized_vector\n",
    "\n",
    "def dimension(model, positives, negatives):\n",
    "    diff = sum([normalize(model[x]) for x in positives]) - sum([normalize(model[y]) for y in negatives])\n",
    "    return diff"
   ]
  },
  {
   "cell_type": "markdown",
   "metadata": {},
   "source": [
    "Let's calculate three dimensions: gender, race, and class."
   ]
  },
  {
   "cell_type": "code",
   "execution_count": 61,
   "metadata": {},
   "outputs": [
    {
     "data": {
      "text/plain": [
       "<gensim.models.word2vec.Word2Vec at 0x11dbf4240>"
      ]
     },
     "execution_count": 61,
     "metadata": {},
     "output_type": "execute_result"
    }
   ],
   "source": [
    "djW2V"
   ]
  },
  {
   "cell_type": "code",
   "execution_count": 51,
   "metadata": {
    "collapsed": true
   },
   "outputs": [],
   "source": [
    "Gender = dimension(nytimes_model, ['man','him','he'], ['woman', 'her', 'she'])\n",
    "Race = dimension(nytimes_model, ['black','blacks','African'], ['white', 'whites', 'Caucasian'])\n",
    "Class = dimension(nytimes_model, ['rich', 'richer', 'richest', 'expensive', 'wealthy'], ['poor', 'poorer', 'poorest', 'cheap', 'inexpensive'])"
   ]
  },
  {
   "cell_type": "markdown",
   "metadata": {},
   "source": [
    "Here we have some words."
   ]
  },
  {
   "cell_type": "code",
   "execution_count": 52,
   "metadata": {
    "collapsed": true
   },
   "outputs": [],
   "source": [
    "Occupations = [\"doctor\",\"lawyer\",\"plumber\",\"scientist\",\"hairdresser\", \"nanny\",\"carpenter\",\"entrepreneur\",\"musician\",\"writer\", \"banker\",\"poet\",\"nurse\"]\n",
    "\n",
    "Foods = [\"steak\", \"bacon\", \"croissant\", \"cheesecake\", \"salad\", \"cheeseburger\", \"vegetables\", \"beer\", \"wine\", \"pastry\"]\n",
    "\n",
    "Sports  = [\"basketball\", \"baseball\", \"boxing\", \"softball\", \"volleyball\", \"tennis\", \"golf\", \"hockey\", \"soccer\"]"
   ]
  },
  {
   "cell_type": "markdown",
   "metadata": {},
   "source": [
    "Define a function to project words in a word list to each of the three dimensions."
   ]
  },
  {
   "cell_type": "code",
   "execution_count": 53,
   "metadata": {
    "collapsed": true
   },
   "outputs": [],
   "source": [
    "def makeDF(model, word_list):\n",
    "    g = []\n",
    "    r = []\n",
    "    c = []\n",
    "    for word in word_list:\n",
    "        g.append(sklearn.metrics.pairwise.cosine_similarity(nytimes_model[word].reshape(1,-1), Gender.reshape(1,-1))[0][0])\n",
    "        r.append(sklearn.metrics.pairwise.cosine_similarity(nytimes_model[word].reshape(1,-1), Race.reshape(1,-1))[0][0])\n",
    "        c.append(sklearn.metrics.pairwise.cosine_similarity(nytimes_model[word].reshape(1,-1), Class.reshape(1,-1))[0][0])\n",
    "    df = pandas.DataFrame({'gender': g, 'race': r, 'class': c}, index = word_list)\n",
    "    return df"
   ]
  },
  {
   "cell_type": "markdown",
   "metadata": {},
   "source": [
    "Get the projections."
   ]
  },
  {
   "cell_type": "code",
   "execution_count": 54,
   "metadata": {
    "collapsed": true
   },
   "outputs": [],
   "source": [
    "OCCdf = makeDF(nytimes_model, Occupations) \n",
    "Fooddf = makeDF(nytimes_model, Foods)\n",
    "Sportsdf = makeDF(nytimes_model, Sports)"
   ]
  },
  {
   "cell_type": "markdown",
   "metadata": {},
   "source": [
    "Define some useful functions for plotting."
   ]
  },
  {
   "cell_type": "code",
   "execution_count": 55,
   "metadata": {
    "collapsed": true
   },
   "outputs": [],
   "source": [
    "def Coloring(Series):\n",
    "    x = Series.values\n",
    "    y = x-x.min()\n",
    "    z = y/y.max()\n",
    "    c = list(plt.cm.rainbow(z))\n",
    "    return c\n",
    "\n",
    "def PlotDimension(ax,df, dim):\n",
    "    ax.set_frame_on(False)\n",
    "    ax.set_title(dim, fontsize = 20)\n",
    "    colors = Coloring(df[dim])\n",
    "    for i, word in enumerate(df.index):\n",
    "        ax.annotate(word, (0, df[dim][i]), color = colors[i], alpha = 0.6, fontsize = 12)\n",
    "    MaxY = df[dim].max()\n",
    "    MinY = df[dim].min()\n",
    "    plt.ylim(MinY,MaxY)\n",
    "    plt.yticks(())\n",
    "    plt.xticks(())"
   ]
  },
  {
   "cell_type": "markdown",
   "metadata": {},
   "source": [
    "Plot the occupational words in each of the three dimensions."
   ]
  },
  {
   "cell_type": "code",
   "execution_count": 56,
   "metadata": {
    "scrolled": true
   },
   "outputs": [
    {
     "data": {
      "image/png": "[encoded data removed]",
      "text/plain": [
       "<matplotlib.figure.Figure at 0x125ca68d0>"
      ]
     },
     "metadata": {},
     "output_type": "display_data"
    }
   ],
   "source": [
    "fig = plt.figure(figsize = (12,4))\n",
    "ax1 = fig.add_subplot(131)\n",
    "PlotDimension(ax1, OCCdf, 'gender')\n",
    "ax2 = fig.add_subplot(132)\n",
    "PlotDimension(ax2, OCCdf, 'race')\n",
    "ax3 = fig.add_subplot(133)\n",
    "PlotDimension(ax3, OCCdf, 'class')\n",
    "plt.show()"
   ]
  },
  {
   "cell_type": "markdown",
   "metadata": {},
   "source": [
    "Foods:"
   ]
  },
  {
   "cell_type": "code",
   "execution_count": 57,
   "metadata": {},
   "outputs": [
    {
     "data": {
      "image/png": "[encoded data removed]",
      "text/plain": [
       "<matplotlib.figure.Figure at 0x125d2f240>"
      ]
     },
     "metadata": {},
     "output_type": "display_data"
    }
   ],
   "source": [
    "fig = plt.figure(figsize = (12,4))\n",
    "ax1 = fig.add_subplot(131)\n",
    "PlotDimension(ax1, Fooddf, 'gender')\n",
    "ax2 = fig.add_subplot(132)\n",
    "PlotDimension(ax2, Fooddf, 'race')\n",
    "ax3 = fig.add_subplot(133)\n",
    "PlotDimension(ax3, Fooddf, 'class')\n",
    "plt.show()"
   ]
  },
  {
   "cell_type": "markdown",
   "metadata": {},
   "source": [
    "Sports:"
   ]
  },
  {
   "cell_type": "code",
   "execution_count": 58,
   "metadata": {},
   "outputs": [
    {
     "data": {
      "image/png": "[encoded data removed]",
      "text/plain": [
       "<matplotlib.figure.Figure at 0x125df1080>"
      ]
     },
     "metadata": {},
     "output_type": "display_data"
    }
   ],
   "source": [
    "fig = plt.figure(figsize = (12,4))\n",
    "ax1 = fig.add_subplot(131)\n",
    "PlotDimension(ax1, Sportsdf, 'gender')\n",
    "ax2 = fig.add_subplot(132)\n",
    "PlotDimension(ax2, Sportsdf, 'race')\n",
    "ax3 = fig.add_subplot(133)\n",
    "PlotDimension(ax3, Sportsdf, 'class')\n",
    "plt.show()"
   ]
  },
  {
   "cell_type": "markdown",
   "metadata": {},
   "source": [
    "## <span style=\"color:red\">*Exercise 3*</span>\n",
    "\n",
    "<span style=\"color:red\">Construct cells immediately below this that identify semantic dimensions of interest from your data (e.g., gender: man-woman) and project words onto these dimensions. Plot the array of relevant words along each semantic dimension. Which words are most different. Which dimensions are most different? On which dimension are your words most different? Print three short textual examples from the corpus that illustrate the association you have explored.\n",
    "\n",
    "<span style=\"color:red\">***Stretch***: Project documents from your corpus along a dimension of interest. Sample relevant documents from your corpus with this functionality and explain your rationale? Calculate the cosine of the angle between two dimensions (encoded as vectors) of interest. What does this suggest about the relationship between them within your corpus? \n",
    "\n",
    "<span style=\"color:red\">***Stretch***: Create 90% bootstrap confidence intervals around your word projections onto a given dimension. Which words are *significantly* different on your semantic dimension of interest?"
   ]
  },
  {
   "cell_type": "code",
   "execution_count": 70,
   "metadata": {
    "collapsed": true
   },
   "outputs": [],
   "source": [
    "# load helper functions from above\n",
    "def normalize(vector):\n",
    "    normalized_vector = vector / np.linalg.norm(vector)\n",
    "    return normalized_vector\n",
    "\n",
    "def dimension(model, positives, negatives):\n",
    "    diff = sum([normalize(model[x]) for x in positives]) - sum([normalize(model[y]) for y in negatives])\n",
    "    return diff\n",
    "\n",
    "def djmakeDF(model, word_list):\n",
    "    g = []\n",
    "    r = []\n",
    "    c = []\n",
    "    for word in word_list:\n",
    "        g.append(sklearn.metrics.pairwise.cosine_similarity(djW2V[word].reshape(1,-1), genderdj.reshape(1,-1))[0][0])\n",
    "        c.append(sklearn.metrics.pairwise.cosine_similarity(djW2V[word].reshape(1,-1), classdj.reshape(1,-1))[0][0])\n",
    "    df = pandas.DataFrame({'gender': g, 'class': c}, index = word_list)\n",
    "    return df\n",
    "\n",
    "def Coloring(Series):\n",
    "    x = Series.values\n",
    "    y = x-x.min()\n",
    "    z = y/y.max()\n",
    "    c = list(plt.cm.rainbow(z))\n",
    "    return c\n",
    "\n",
    "def PlotDimension(ax,df, dim):\n",
    "    ax.set_frame_on(False)\n",
    "    ax.set_title(dim, fontsize = 20)\n",
    "    colors = Coloring(df[dim])\n",
    "    for i, word in enumerate(df.index):\n",
    "        ax.annotate(word, (0, df[dim][i]), color = colors[i], alpha = 0.6, fontsize = 12)\n",
    "    MaxY = df[dim].max()\n",
    "    MinY = df[dim].min()\n",
    "    plt.ylim(MinY,MaxY)\n",
    "    plt.yticks(())\n",
    "    plt.xticks(())"
   ]
  },
  {
   "cell_type": "code",
   "execution_count": 106,
   "metadata": {
    "collapsed": true
   },
   "outputs": [],
   "source": [
    "# two dimensions\n",
    "genderdj = dimension(djW2V, ['man', 'men', 'guy', 'dude', 'bro'], ['woman', 'girl', 'women', 'chick', 'gal'])\n",
    "classdj = dimension(djW2V, ['rich', 'expensive'], ['poor','cheap'])\n",
    "\n",
    "# word list\n",
    "activities = ['date', 'shop', 'eat','gym', 'work', 'drive', 'laugh', 'think', 'lie', 'seduce', 'wait', 'marry']\n",
    "sex_acts = ['talk','flirt', 'touch', 'grab', 'kiss', 'sex']\n",
    "emotions = ['happy', 'high', 'sad', 'satisfied', 'horny', 'aroused', 'wet', 'hard', 'mature', 'immature', 'child', 'silly', 'stupid']"
   ]
  },
  {
   "cell_type": "code",
   "execution_count": 107,
   "metadata": {
    "collapsed": true
   },
   "outputs": [],
   "source": [
    "#project\n",
    "actDF = djmakeDF(djW2V, activities)\n",
    "sexDF = djmakeDF(djW2V, sex_acts)\n",
    "emoDF = djmakeDF(djW2V, emotions)"
   ]
  },
  {
   "cell_type": "code",
   "execution_count": 108,
   "metadata": {},
   "outputs": [
    {
     "data": {
      "image/png": "[encoded data removed]",
      "text/plain": [
       "<matplotlib.figure.Figure at 0x125df8ba8>"
      ]
     },
     "metadata": {},
     "output_type": "display_data"
    }
   ],
   "source": [
    "#plot\n",
    "fig = plt.figure(figsize = (12,4))\n",
    "ax1 = fig.add_subplot(131)\n",
    "PlotDimension(ax1, actDF, 'gender')\n",
    "ax3 = fig.add_subplot(132)\n",
    "PlotDimension(ax3, actDF, 'class')\n",
    "plt.show()"
   ]
  },
  {
   "cell_type": "code",
   "execution_count": 109,
   "metadata": {},
   "outputs": [
    {
     "data": {
      "image/png": "[encoded data removed]",
      "text/plain": [
       "<matplotlib.figure.Figure at 0x1243f35f8>"
      ]
     },
     "metadata": {},
     "output_type": "display_data"
    }
   ],
   "source": [
    "#plot\n",
    "fig = plt.figure(figsize = (12,4))\n",
    "ax1 = fig.add_subplot(131)\n",
    "PlotDimension(ax1, sexDF, 'gender')\n",
    "ax3 = fig.add_subplot(132)\n",
    "PlotDimension(ax3, sexDF, 'class')\n",
    "plt.show()"
   ]
  },
  {
   "cell_type": "code",
   "execution_count": 110,
   "metadata": {},
   "outputs": [
    {
     "data": {
      "image/png": "[encoded data removed]",
      "text/plain": [
       "<matplotlib.figure.Figure at 0x126390a58>"
      ]
     },
     "metadata": {},
     "output_type": "display_data"
    }
   ],
   "source": [
    "#plot\n",
    "fig = plt.figure(figsize = (12,4))\n",
    "ax1 = fig.add_subplot(131)\n",
    "PlotDimension(ax1, emoDF, 'gender')\n",
    "ax3 = fig.add_subplot(132)\n",
    "PlotDimension(ax3, emoDF, 'class')\n",
    "plt.show()"
   ]
  },
  {
   "cell_type": "markdown",
   "metadata": {},
   "source": [
    "What is one to make of the data above? It's hard to say. I'm wary of the class analysis since I had a fairly small pool of words that discriminated between the \"higher\" and \"lower\" classes, so I'll restrict myself to the gender dimension. Since the corpus I'm analyising pertains to seduction and the pursuit of women, you'd expect there to be an obvious gendered dimension to the material. From the first graph, we can see that sexually forward actions tend to be more masculine. There are some surprises, however. \"Shop\" is associated with man, and so is \"eat\"; \"drive\" is masculine, but this is a cultural stereotype so it isn't surprising. \n",
    "\n",
    "When we look at actions in the sexual domain, we can see even more clearly that sexually aggresive behavior is seen as masculine. It is masculine to \"grab\", \"flirt\", or \"touch\"; 'sex' and 'kiss' are fairly gender-equitable. Talking is feminine. I wonder where \"fuck\" would fit in: unfortunately, this seems to have been stripped from my corpus by nltk.\n",
    "\n",
    "I thought a gendered analysis of common adjectives, esp. as it pertains to emotions, might be interesting. Not quite so: they mostly cluster under men. \"Hard\" is feminine — which I find fairly amusing. I'd have to look at this further ..."
   ]
  },
  {
   "cell_type": "code",
   "execution_count": null,
   "metadata": {
    "collapsed": true
   },
   "outputs": [],
   "source": []
  }
 ],
 "metadata": {
  "anaconda-cloud": {},
  "kernelspec": {
   "display_name": "Python 3",
   "language": "python",
   "name": "python3"
  },
  "language_info": {
   "codemirror_mode": {
    "name": "ipython",
    "version": 3
   },
   "file_extension": ".py",
   "mimetype": "text/x-python",
   "name": "python",
   "nbconvert_exporter": "python",
   "pygments_lexer": "ipython3",
   "version": "3.6.3"
  }
 },
 "nbformat": 4,
 "nbformat_minor": 1
}
